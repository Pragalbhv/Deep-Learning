{
 "cells": [
  {
   "cell_type": "code",
   "execution_count": 1,
   "id": "34789f6f",
   "metadata": {},
   "outputs": [],
   "source": [
    "import numpy as np"
   ]
  },
  {
   "cell_type": "code",
   "execution_count": 2,
   "id": "2315322e",
   "metadata": {},
   "outputs": [],
   "source": [
    "from tqdm import tqdm\n",
    "import wandb\n",
    "import matplotlib.pyplot as plt\n",
    "import copy"
   ]
  },
  {
   "cell_type": "code",
   "execution_count": 3,
   "id": "0d99502a",
   "metadata": {},
   "outputs": [],
   "source": [
    "def relu(x):\n",
    "    return np.where(x >= 0, \n",
    "                        x, \n",
    "                        0)"
   ]
  },
  {
   "cell_type": "code",
   "execution_count": 4,
   "id": "94c5e650",
   "metadata": {},
   "outputs": [],
   "source": [
    "def get_activation(activation):#maybe getderivatives here iteself ?\n",
    "    def sigmoid(x):\n",
    "        return np.where(x >= 0, \n",
    "                        1 / (1 + np.exp(-x)), \n",
    "                        np.exp(x) / (1 + np.exp(x)))\n",
    "    def softmax(x):\n",
    "        z=x-np.max(x,axis=0)\n",
    "        return np.exp(z)/np.sum(np.exp(z),axis=0)\n",
    "    def relu(x):\n",
    "        rel=np.where(x >= 0, \n",
    "                            x, \n",
    "                            0)\n",
    "        return rel\n",
    "    if activation=='sigmoid':\n",
    "        return sigmoid\n",
    "    elif activation=='softmax':\n",
    "        return softmax\n",
    "    elif activation== 'tanh':\n",
    "        return np.tanh\n",
    "    elif activation== 'relu':\n",
    "        return relu"
   ]
  },
  {
   "cell_type": "code",
   "execution_count": 5,
   "id": "f384261c",
   "metadata": {},
   "outputs": [],
   "source": [
    "def get_activation_derivative(activation):#maybe getderivatives here iteself ?\n",
    "    def sigmoid_d(x):\n",
    "        sig= np.where(x >= 0, 1 / (1 + np.exp(-x)), np.exp(x) / (1 + np.exp(x)))\n",
    "        return sig*(1-sig)\n",
    "    def softmax_d(x):\n",
    "        z=x-np.max(x,axis=0)\n",
    "        soft=np.exp(z)/np.sum(np.exp(z),axis=0)\n",
    "        return soft*(1-soft)\n",
    "    def tanh_d(x):\n",
    "        return 1-np.tanh(x)**2\n",
    "    def relu_d(x):\n",
    "        return np.where(x >= 0, \n",
    "                            1, \n",
    "                            0)\n",
    "    \n",
    "    if activation=='sigmoid':\n",
    "        return sigmoid_d\n",
    "    elif activation=='softmax':\n",
    "        '''\n",
    "        need to think more, not required for backprop as we look directly at dL/da_l\n",
    "        But still, for the sake of completeness, and if user wants softmax in the middle?\n",
    "        d S(x_i) /d x_j= S(x_i)*(kronecker delta_i,j -S(x_j))\n",
    "        But we care about only dh_k,j/da_k,j So no need to implement d S(x_i) /d x_j\n",
    "        d S(x_i) /d x_i should suffice\n",
    "        so we get array of [ d S(x_1) /d x_1, d S(x_2) /d x_2, ....]\n",
    "        \n",
    "        For MSE loss after softmax, we need cross terms...\n",
    "        '''\n",
    "        \n",
    "        return softmax_d\n",
    "    elif activation=='tanh':\n",
    "        return tanh_d\n",
    "    elif activation=='relu':\n",
    "        return relu_d\n",
    "    assert(activation=='relu'or activation=='tanh'or activation=='sigmoid' or activation=='softmax'), 'Must be \\'relu\\'or \\'tanh\\' or \\'sigmoid\\' or \\'softmax\\' '\n"
   ]
  },
  {
   "cell_type": "code",
   "execution_count": 6,
   "id": "4c0621d8",
   "metadata": {},
   "outputs": [],
   "source": [
    "def get_loss(loss='cross-entropy'):\n",
    "    \n",
    "   \n",
    "    \n",
    "    safety=1e-30    \n",
    "    def crossentropy(P,Q):\n",
    "        assert(P.shape==Q.shape), \"Inputs must be of same shape\"\n",
    "\n",
    "        return np.sum([-np.dot(P[:,i],np.log2(Q[:,i]+safety)) for i in range(P.shape[1])])\n",
    "    def SE(P,Q):\n",
    "        assert(P.shape==Q.shape), \"Inputs must be of same shape\"\n",
    "\n",
    "        return np.sum(np.square(P-Q))\n",
    "    \n",
    "    if loss==\"SE\":\n",
    "        return SE\n",
    "    return crossentropy\n",
    "    \n",
    "    \n",
    "      \n",
    "    \n",
    "    \n",
    "    \n",
    "    "
   ]
  },
  {
   "cell_type": "code",
   "execution_count": 7,
   "id": "6a254663",
   "metadata": {},
   "outputs": [],
   "source": [
    "def get_loss_derivative(loss):\n",
    "    def SE_d(y_in,y_pred_in):\n",
    "        '''\n",
    "        derivative of MSE after softmax is used to get probabs from a_L:\n",
    "        We need indicator because the all terms of y_true are required unlike cross-entropy where only y_pred[l] is required\n",
    "        Thus transforming the stacked indicator to y_true, not here...\n",
    "        \n",
    "        '''\n",
    "\n",
    "        def indicator(i,j):\n",
    "                if i==j:\n",
    "                    return 1\n",
    "                return 0\n",
    "\n",
    "\n",
    "        assert(y_in.shape[0]==y_pred_in.shape[0]),\"Inputs must contain same number of examples\"\n",
    "\n",
    "        y=y_in.ravel()\n",
    "        y_pred=y_pred_in.ravel()\n",
    "\n",
    "\n",
    "        return np.array([\n",
    "            [2*np.sum([(y_pred[i]-y[i])*y[i]*(indicator(i,j) - y_pred[j]) for i in range(y.shape[0])])]\n",
    "            for j in range(len(y))\n",
    "        ])    \n",
    "   \n",
    "    \n",
    "        \n",
    "    def crossentropy_d(y,y_pred):\n",
    "        \n",
    "\n",
    "        return -(y-y_pred)\n",
    "    \n",
    "    \n",
    "    if loss==\"cross-entropy\":\n",
    "        return crossentropy_d\n",
    "    return SE_d\n",
    "    "
   ]
  },
  {
   "cell_type": "code",
   "execution_count": 8,
   "id": "c48942c8",
   "metadata": {},
   "outputs": [],
   "source": [
    "class layer:\n",
    "    def __init__(self,input_size,output_size,activation='sigmoid',batch_size=2,type_='random'):\n",
    "            \n",
    "        ''' \n",
    "        output size number of neurons i\n",
    "        input size j\n",
    "        \n",
    "        '''\n",
    "        assert(type_=='random'or type_=='xavier'or type_=='glorot' or type_=='He' or type_=='Kaiming' ), 'Must be \\'random\\'or \\'xavier\\' or \\'glorot\\' or \\'He\\' '\n",
    "        \n",
    "        if type_=='random':\n",
    "            scale=0.01\n",
    "            self.W=np.random.randn(output_size,input_size)*scale #size ixj\n",
    "            \n",
    "        elif type_=='xavier' or type_=='glorot':\n",
    "            # Xavier Uniform\n",
    "            r=np.sqrt(6/(input_size+output_size))\n",
    "            self.W=np.random.uniform(-r,r,(output_size,input_size))\n",
    "\n",
    "            \n",
    "        else:#He aka Kaiming\n",
    "            self.W= np.random.randn(output_size,input_size)*np.sqrt(2/input_size)\n",
    "\n",
    "            \n",
    "                \n",
    "            \n",
    "            \n",
    "        self.b=np.zeros((output_size,1))         #size i\n",
    "            \n",
    "        self.a=np.zeros((output_size,batch_size))          #size i\n",
    "        self.h=np.zeros((output_size,batch_size))         #size i\n",
    "        self.g=get_activation(activation)\n",
    "        \n",
    "        self.d_a=np.zeros((output_size,batch_size))\n",
    "        self.d_h=np.zeros((output_size,batch_size))\n",
    "        self.d_W=np.zeros((output_size,input_size))\n",
    "        self.d_b=np.zeros((output_size,1))\n",
    "        self.d_g=get_activation_derivative(activation)\n",
    "        \n",
    "        \n",
    "        \n",
    "    def forward(self, inputs):\n",
    "        self.a=self.b+np.matmul(self.W,inputs)\n",
    "        self.h=self.g(self.a)\n",
    "        return self.h\n",
    "    def reset(self):\n",
    "        self.d_a=np.zeros(np.shape(self.d_a))\n",
    "        self.d_h=np.zeros(np.shape(self.d_h))\n",
    "        self.d_W=np.zeros(np.shape(self.d_W))\n",
    "        self.d_b=np.zeros(np.shape(self.d_b))\n",
    "        \n",
    "    def hard_set(self,W,b):#hardsets the weight. useful for debugging\n",
    "        self.W=W\n",
    "        self.b=b\n",
    "        \n"
   ]
  },
  {
   "cell_type": "code",
   "execution_count": 9,
   "id": "06f18d47",
   "metadata": {},
   "outputs": [],
   "source": [
    "class Model:\n",
    "    def __init__(self,X_size,Y_size,hidden_layer_sizes,hidden_layer_activations,hidden_layer_initializations,loss,lamdba_m,batch_size):\n",
    "        '''\n",
    "        '''   \n",
    "        \n",
    "        self.input_size=X_size\n",
    "        self.output_size=Y_size\n",
    "        self.hidden_layer_sizes=hidden_layer_sizes\n",
    "        self.layers=[]\n",
    "        self.batch_size=batch_size\n",
    "        \n",
    "        prev_size=self.input_size\n",
    "\n",
    "        assert(len(hidden_layer_sizes)==len(hidden_layer_activations)==len(hidden_layer_initializations)), 'lengths of layer sizes, activations and initializations don\\'t match'\n",
    "        for size,activation,inits in zip(hidden_layer_sizes,hidden_layer_activations,hidden_layer_initializations):\n",
    "\n",
    "            self.layers.append(layer(prev_size,size,activation,batch_size,inits))\n",
    "            prev_size=size\n",
    "        self.layers.append(layer(size,self.output_size,'softmax',batch_size,'xavier'))\n",
    "        \n",
    "        self.loss=get_loss(loss)#without regularization term\n",
    "        self.loss_d=get_loss_derivative(loss)\n",
    "        self.lamdba_m=lamdba_m #we shall pass lambda/m to this, where m is patch size\n",
    "        \n",
    "    def forward(self,x):\n",
    "        output=x\n",
    "        \n",
    "        for layer in  self.layers:\n",
    "            output=layer.forward(output)  \n",
    "        return output\n",
    "    \n",
    "    def backward(self,x,y,y_pred):\n",
    "        # self.layers[-1].d_h is not needed as d_h is used to calculate d_a and self.layers[-1].h is softmax\n",
    "        self.layers[-1].d_a=self.loss_d(y,y_pred)\n",
    "            \n",
    "        \n",
    "        \n",
    "        for idx in range(len(self.layers)-1,0,-1): #goes from L->2, for l=1 we do outside\n",
    "            \n",
    "            \n",
    "            #compute gradient wrt parameters\n",
    "            self.layers[idx].d_W=np.dot(self.layers[idx].d_a,np.transpose(self.layers[idx-1].h))+self.lamdba_m*self.layers[idx].W\n",
    "            self.layers[idx].d_b=np.sum(self.layers[idx].d_a,axis=1,keepdims=True)\n",
    "            \n",
    "            #compute gradient wrt layer below -- will help in next layer iter\n",
    "            self.layers[idx-1].d_h=np.matmul(np.transpose(self.layers[idx].W),self.layers[idx].d_a)\n",
    "            \n",
    "            #compute gradient -- element wise multiplivation, derivative of the activation function of layer idx-1\n",
    "            self.layers[idx-1].d_a=self.layers[idx-1].d_h*self.layers[idx-1].d_g(self.layers[idx-1].a)\n",
    "        assert(idx-1==0)\n",
    "                        \n",
    "        self.layers[0].d_W=np.dot(self.layers[0].d_a,np.transpose(x))+self.lamdba_m*self.layers[0].W\n",
    "        self.layers[0].d_b=np.sum(self.layers[0].d_a,axis=1,keepdims=True)\n",
    "        \n",
    "        \n",
    "        \n",
    "    def predict(self,Xtest):\n",
    "        \n",
    "        return self.forward(Xtest)\n",
    "    \n",
    "    \n",
    "        \n",
    "        \n",
    "                    \n",
    "                \n",
    "                \n",
    "            \n",
    "            \n",
    "            \n",
    "        \n",
    "    \n",
    "            \n",
    "            \n",
    "        \n",
    "            \n",
    "            "
   ]
  },
  {
   "cell_type": "code",
   "execution_count": null,
   "id": "a23fda6b",
   "metadata": {},
   "outputs": [],
   "source": []
  },
  {
   "cell_type": "code",
   "execution_count": null,
   "id": "7911d3f7",
   "metadata": {},
   "outputs": [],
   "source": []
  },
  {
   "cell_type": "code",
   "execution_count": 10,
   "id": "ec5a1ddb",
   "metadata": {},
   "outputs": [],
   "source": [
    "class optimizers_wandb:\n",
    "    def __init__(self,X_size,Y_size,num_layers=3,const_hidden_layer_size=32,const_hidden_layer_activation='relu',\n",
    "                 const_hidden_layer_initializations='He',\n",
    "                 loss='cross-entropy',optimizer='adam',lamdba=0,batch_size=1,epochs=10,eta=1e-3,ES=True):\n",
    "\n",
    "        self.batch_size=batch_size\n",
    "        self.epochs=epochs\n",
    "        \n",
    "        self.const_hidden_layer_size=const_hidden_layer_size\n",
    "        self.const_hidden_layer_activation=const_hidden_layer_activation\n",
    "        self.const_hidden_layer_initializations=const_hidden_layer_initializations\n",
    "\n",
    "        self.lamdba=lamdba\n",
    "        \n",
    "        #keeping same for simplicity\n",
    "        hidden_layer_sizes=[const_hidden_layer_size]*num_layers\n",
    "        hidden_layer_activations=[const_hidden_layer_activation]*num_layers\n",
    "        hidden_layer_initializations=[const_hidden_layer_initializations]*num_layers\n",
    "        \n",
    "\n",
    "        \n",
    "        self.model=Model(X_size,Y_size,hidden_layer_sizes,hidden_layer_activations,hidden_layer_initializations,loss,lamdba_m=lamdba/self.batch_size,batch_size=self.batch_size)\n",
    "        \n",
    "        self.learning_rate=eta\n",
    "        self.optimizer=optimizer\n",
    "        \n",
    "        if self.optimizer=='sgd':\n",
    "            self.batch_size=1\n",
    "            \n",
    "            \n",
    "            \n",
    "        self.train_loss=[]\n",
    "        self.train_acc=[]\n",
    "        \n",
    "        self.val_loss=[]\n",
    "        self.val_acc=[]\n",
    "        \n",
    "        \n",
    "        \n",
    "        self.ES=ES\n",
    "        if self.ES:\n",
    "            self.ES_best_val_loss=1e30\n",
    "            self.ES_paitence=5\n",
    "            self.ES_model=None\n",
    "            self.ES_epoch=-1\n",
    "        \n",
    "\n",
    "        \n",
    "        \n",
    "    def iterate(self,updator,X,Y,Xval,Yval):\n",
    "        reminder=X.shape[1]%self.batch_size #uneven batch size\n",
    "        \n",
    "        for t in tqdm(range(self.epochs)):\n",
    "            for i in range(0,np.shape(X)[1]-self.batch_size,self.batch_size):\n",
    "                x=X[:,i:i+self.batch_size]\n",
    "                y=Y[:,i:i+self.batch_size]\n",
    "                y_pred=self.model.forward(x)\n",
    "    \n",
    "    \n",
    "                self.model.backward(x,y,y_pred)\n",
    "                updator(t)\n",
    "\n",
    "            if reminder:\n",
    "\n",
    "                x=np.hstack((X[:,i+self.batch_size:],X[:,:reminder]))\n",
    "                y=np.hstack((Y[:,i+self.batch_size:],Y[:,:reminder]))\n",
    "                y_pred=self.model.forward(x)\n",
    "                self.model.backward(x,y,y_pred)\n",
    "                updator(t)\n",
    "            \n",
    "            \n",
    "            \n",
    "            \n",
    "\n",
    "            self.loss_calc(X,Y,Xval,Yval)\n",
    "            \n",
    "            \n",
    "            \n",
    "            if self.ES:\n",
    "                if self.ES_best_val_loss>self.val_loss[-1]:\n",
    "                    self.ES_best_val_loss=self.val_loss[-1]\n",
    "                    self.ES_model=copy.deepcopy(self.model)\n",
    "                    self.patience=5\n",
    "                    self.ES_epoch=t\n",
    "                    wandb.log({'train_loss':self.train_loss[-1],'val_loss':self.val_loss[-1],\n",
    "                       'train_acc':self.train_acc[-1],'val_acc':self.val_acc[-1],\n",
    "                       'epoch':t})\n",
    "                else:\n",
    "                    self.patience-=1\n",
    "                    if not self.patience:\n",
    "                        print('Early stopping at epoch: ',t, \"reverting to epoch \", self.ES_epoch)\n",
    "                        self.loss_calc(X,Y,Xval,Yval)\n",
    "                        wandb.log({'train_loss':self.train_loss[-1],'val_loss':self.val_loss[-1],\n",
    "                           'train_acc':self.train_acc[-1],'val_acc':self.val_acc[-1],\n",
    "                           'epoch':t})\n",
    "                        self.model=self.ES_model\n",
    "                        self.loss_calc(X,Y,Xval,Yval)\n",
    "                        wandb.log({'train_loss':self.train_loss[-1],'val_loss':self.val_loss[-1],\n",
    "                       'train_acc':self.train_acc[-1],'val_acc':self.val_acc[-1],\n",
    "                       'epoch':t+1})\n",
    "                        return\n",
    "            else:\n",
    "                wandb.log({'train_loss':self.train_loss[-1],'val_loss':self.val_loss[-1],\n",
    "                       'train_acc':self.train_acc[-1],'val_acc':self.val_acc[-1],\n",
    "                       'epoch':t})\n",
    "                \n",
    "                        \n",
    "                   \n",
    "            \n",
    "    def accuracy_check(self,Y,Ypred):\n",
    "        return np.sum(np.argmax(Ypred,axis=0)==np.argmax(Y,axis=0))/Y.shape[1]        \n",
    "    \n",
    "    def loss_calc(self,X,Y,Xval,Yval):\n",
    "            regularization=1/2*self.model.lamdba_m*np.sum([np.sum(layer.W**2) for layer in self.model.layers])\n",
    "            \n",
    "            Ypred=self.model.predict(X)\n",
    "            Yvalpred=self.model.predict(Xval)\n",
    "            \n",
    "            self.train_loss.append((self.model.loss(Y,Ypred)+regularization)/X.shape[1])\n",
    "            self.val_loss.append(self.model.loss(Yval,Yvalpred)/Xval.shape[1])\n",
    "            self.train_acc.append(self.accuracy_check(Y,Ypred))\n",
    "            self.val_acc.append(self.accuracy_check(Yval,Yvalpred))\n",
    "            \n",
    "\n",
    "          \n",
    "\n",
    "\n",
    "        \n",
    "        \n",
    "\n",
    "    def batch_gradient_descent(self,traindat,testdat):\n",
    "        \n",
    "        '''\n",
    "        Mini-Batch Gradient Descent\n",
    "        at batchsize=1, behaves like sgd, batchsize=np.shape(X)[1], behaves as gd\n",
    "        eta is the learning rate\n",
    "        '''\n",
    "        X,Y=traindat\n",
    "        \n",
    "        Xval,Yval=testdat\n",
    "        \n",
    "        def update_batch(_):\n",
    "            for layer in self.model.layers:\n",
    "                layer.W=layer.W-self.learning_rate*layer.d_W\n",
    "                layer.b=layer.b-self.learning_rate*layer.d_b\n",
    " \n",
    "        \n",
    "\n",
    "        updator=update_batch\n",
    "        self.iterate(updator,X,Y,Xval,Yval)\n",
    "\n",
    "            \n",
    "    def momentum(self,traindat,testdat,beta=0.9):\n",
    "        ''''''\n",
    "        \n",
    "        X,Y=traindat\n",
    "        \n",
    "        Xval,Yval=testdat\n",
    "        u_W=[np.zeros(np.shape(layer.d_W)) for layer in self.model.layers]\n",
    "        u_b=[np.zeros(np.shape(layer.d_b)) for layer in self.model.layers]\n",
    "        \n",
    "        def update_mom(_):\n",
    "            for i in range(len(self.model.layers)):\n",
    "                layer=self.model.layers[i]\n",
    "                u_W[i]=beta*u_W[i]+layer.d_W\n",
    "                u_b[i]=beta*u_b[i]+layer.d_b\n",
    "                layer.W=layer.W-self.learning_rate*u_W[i]\n",
    "                layer.b=layer.b-self.learning_rate*u_b[i]\n",
    "        \n",
    "        updator=update_mom\n",
    "        self.iterate(updator,X,Y,Xval,Yval)\n",
    "            \n",
    "\n",
    "    def rmsprop(self,traindat,testdat,beta=0.9,epsilon=1e-10):\n",
    "        ''''''\n",
    "        X,Y=traindat\n",
    "        \n",
    "        Xval,Yval=testdat\n",
    "        \n",
    "        v_W=[np.zeros(np.shape(layer.d_W)) for layer in self.model.layers]\n",
    "        v_b=[np.zeros(np.shape(layer.d_b)) for layer in self.model.layers]\n",
    "        \n",
    "        def update_rms(_):\n",
    "                for i in range(len(self.model.layers)):                 \n",
    "                    layer=self.model.layers[i]\n",
    "                    v_W[i]=beta*v_W[i]+(1-beta)*layer.d_W**2\n",
    "                    v_b[i]=beta*v_b[i]+(1-beta)*layer.d_b**2\n",
    "                    layer.W=layer.W-(self.learning_rate/np.sqrt(v_W[i]+epsilon))*layer.d_W\n",
    "                    layer.b=layer.b-(self.learning_rate/np.sqrt(v_b[i]+epsilon))*layer.d_b\n",
    "\n",
    "\n",
    "\n",
    "        updator=update_rms\n",
    "        self.iterate(updator,X,Y,Xval,Yval)\n",
    "            \n",
    "    def Adam(self,traindat,testdat,beta1=0.9, beta2=0.999,epsilon=1e-10):\n",
    "        ''''''\n",
    "        X,Y=traindat\n",
    "        \n",
    "        Xval,Yval=testdat\n",
    "        \n",
    "        m_W=[np.zeros(np.shape(layer.d_W)) for layer in self.model.layers]\n",
    "        v_W=[np.zeros(np.shape(layer.d_W)) for layer in self.model.layers]\n",
    "        m_b=[np.zeros(np.shape(layer.d_b)) for layer in self.model.layers]\n",
    "        v_b=[np.zeros(np.shape(layer.d_b)) for layer in self.model.layers]\n",
    "        \n",
    "        def update_adam(t):\n",
    "            for i in range(len(self.model.layers)):\n",
    "                layer=self.model.layers[i]\n",
    "                #updating momentum, velocity\n",
    "                m_W[i]=beta1*m_W[i]+(1-beta1)*layer.d_W\n",
    "                m_b[i]=beta1*m_b[i]+(1-beta1)*layer.d_b\n",
    "\n",
    "                v_W[i]=beta2*v_W[i]+(1-beta2)*layer.d_W**2\n",
    "                v_b[i]=beta2*v_b[i]+(1-beta2)*layer.d_b**2\n",
    "\n",
    "                m_W_hat=m_W[i]/(1-np.power(beta1,t+1))\n",
    "                m_b_hat=m_b[i]/(1-np.power(beta1,t+1))\n",
    "                v_W_hat=v_W[i]/(1-np.power(beta2,t+1))\n",
    "                v_b_hat=v_b[i]/(1-np.power(beta2,t+1))\n",
    "\n",
    "\n",
    "\n",
    "                layer.W=layer.W-(self.learning_rate*m_W_hat)/(np.sqrt(v_W_hat)+epsilon)\n",
    "                layer.b=layer.b-(self.learning_rate*m_b_hat)/(np.sqrt(v_b_hat)+epsilon)\n",
    "\n",
    "            \n",
    "        \n",
    "        \n",
    "        \n",
    "        \n",
    "\n",
    "\n",
    "\n",
    "        updator=update_adam\n",
    "        self.iterate(updator,X,Y,Xval,Yval)\n",
    "    \n",
    "    def NAG(self,traindat,testdat,beta=0.9):\n",
    "        \n",
    "        ''''''\n",
    "        \n",
    "        X,Y=traindat\n",
    "        \n",
    "        \n",
    "        Xval,Yval=testdat\n",
    "        \n",
    "        m_W=[np.zeros(np.shape(layer.d_W)) for layer in self.model.layers]\n",
    "        m_b=[np.zeros(np.shape(layer.d_b)) for layer in self.model.layers]\n",
    "        def update_nag(_):\n",
    "            for i in range(len(self.model.layers)):\n",
    "                layer=self.model.layers[i]\n",
    "                m_W[i]=beta*m_W[i]+self.learning_rate*layer.d_W\n",
    "                m_b[i]=beta*m_b[i]+self.learning_rate*layer.d_b\n",
    "\n",
    "\n",
    "                layer.W=layer.W-(beta*m_W[i]+self.learning_rate*layer.d_W[i])\n",
    "                layer.b=layer.b-(beta*m_b[i]+self.learning_rate*layer.d_b[i])\n",
    "            \n",
    "        updator=update_nag\n",
    "        self.iterate(updator,X,Y,Xval,Yval)\n",
    "    \n",
    "    def NAdam(self,traindat,testdat,beta1=0.9, beta2=0.999,epsilon=1e-10):\n",
    "        ''''''\n",
    "        \n",
    "        X,Y=traindat\n",
    "        \n",
    "        Xval,Yval=testdat\n",
    "        \n",
    "        m_W=[np.zeros(np.shape(layer.d_W)) for layer in self.model.layers]\n",
    "        v_W=[np.zeros(np.shape(layer.d_W)) for layer in self.model.layers]\n",
    "        m_b=[np.zeros(np.shape(layer.d_b)) for layer in self.model.layers]\n",
    "        v_b=[np.zeros(np.shape(layer.d_b)) for layer in self.model.layers]\n",
    "        \n",
    "        def update_nadam(t):\n",
    "            for i in range(len(self.model.layers)):\n",
    "                layer=self.model.layers[i]\n",
    "                #updating momentum, velocity\n",
    "                m_W[i]=beta1*m_W[i]+(1-beta1)*layer.d_W\n",
    "                m_b[i]=beta1*m_b[i]+(1-beta1)*layer.d_b\n",
    "\n",
    "                v_W[i]=beta2*v_W[i]+(1-beta2)*layer.d_W**2\n",
    "                v_b[i]=beta2*v_b[i]+(1-beta2)*layer.d_b**2\n",
    "\n",
    "                m_W_hat=m_W[i]/(1-np.power(beta1,t+1))\n",
    "                m_b_hat=m_b[i]/(1-np.power(beta1,t+1))\n",
    "                v_W_hat=v_W[i]/(1-np.power(beta2,t+1))\n",
    "                v_b_hat=v_b[i]/(1-np.power(beta2,t+1))\n",
    "\n",
    "\n",
    "\n",
    "                layer.W=layer.W-(self.learning_rate/(np.sqrt(v_W_hat)+epsilon))*\\\n",
    "                (beta1*m_W_hat+((1-beta1)/(1-np.power(beta1,t+1)))*layer.d_W)\n",
    "                layer.b=layer.b-(self.learning_rate/(np.sqrt(v_b_hat)+epsilon))*\\\n",
    "                (beta1*m_b_hat+((1-beta1)/(1-np.power(beta1,t+1)))*layer.d_b)            \n",
    "        \n",
    "        \n",
    "\n",
    "\n",
    "        updator=update_nadam\n",
    "        self.iterate(updator,X,Y,Xval,Yval)\n",
    "        \n",
    "    def plot_loss(self):\n",
    "        plt.plot(list(range(0,len(self.train_loss))), self.train_loss, 'r', label=\"Training loss\")\n",
    "        plt.plot(list(range(0,len(self.val_loss))), self.val_loss, 'b', label=\"Validation loss\")\n",
    "        plt.title(\"Loss vs Epochs\", size=10)\n",
    "        plt.xlabel(\"Epochs\", size=10)\n",
    "        plt.ylabel(\"Loss\", size=10)\n",
    "        plt.legend()\n",
    "        plt.show()\n",
    "\n",
    "\n",
    "    def run(self,traindat,testdat,beta=0.9,beta1=0.9, beta2=0.999,epsilon=1e-10):\n",
    "        \n",
    "        if self.optimizer==\"batch\":\n",
    "            self.batch_gradient_descent(traindat,testdat)\n",
    "            \n",
    "        elif self.optimizer==\"sgd\":\n",
    "            assert(self.batch_size==1), \"Batch size should be 1 for stochastic gradient descent\"\n",
    "            self.batch_gradient_descent(traindat,testdat)\n",
    "            \n",
    "        elif self.optimizer==\"momentum\":\n",
    "            self.momentum(traindat,testdat,beta)\n",
    "            \n",
    "            \n",
    "        elif self.optimizer==\"nesterov\":\n",
    "            self.NAG(traindat,testdat,beta)\n",
    "            \n",
    "            \n",
    "        elif self.optimizer==\"rmsprop\":\n",
    "            self.rmsprop(traindat,testdat,beta=0.9,epsilon=1e-10)\n",
    "            \n",
    "        elif self.optimizer==\"adam\":\n",
    "            self.Adam(traindat,testdat,beta1=0.9, beta2=0.999,epsilon=1e-10)\n",
    "\n",
    "            \n",
    "            \n",
    "        elif self.optimizer==\"nadam\":\n",
    "            self.NAdam(traindat,testdat,beta1=0.9, beta2=0.999,epsilon=1e-10)\n",
    "\n",
    "            \n",
    "            \n",
    "        else:\n",
    "            print(\"Invalid optimizer name \"+ self.optimizer)\n",
    "            return(0)\n",
    "        \n",
    "        self.plot_loss()\n",
    "        \n",
    "        \n",
    "        \n",
    "\n"
   ]
  },
  {
   "cell_type": "code",
   "execution_count": null,
   "id": "a0852ca1",
   "metadata": {},
   "outputs": [],
   "source": []
  },
  {
   "cell_type": "markdown",
   "id": "40cda233",
   "metadata": {},
   "source": [
    "# Import Dataset"
   ]
  },
  {
   "cell_type": "code",
   "execution_count": 11,
   "id": "4d78258c",
   "metadata": {},
   "outputs": [
    {
     "name": "stderr",
     "output_type": "stream",
     "text": [
      "2023-03-19 04:22:56.731585: I tensorflow/core/platform/cpu_feature_guard.cc:193] This TensorFlow binary is optimized with oneAPI Deep Neural Network Library (oneDNN) to use the following CPU instructions in performance-critical operations:  AVX2 AVX_VNNI FMA\n",
      "To enable them in other operations, rebuild TensorFlow with the appropriate compiler flags.\n",
      "2023-03-19 04:22:56.804996: I tensorflow/core/util/util.cc:169] oneDNN custom operations are on. You may see slightly different numerical results due to floating-point round-off errors from different computation orders. To turn them off, set the environment variable `TF_ENABLE_ONEDNN_OPTS=0`.\n",
      "2023-03-19 04:22:56.821388: E tensorflow/stream_executor/cuda/cuda_blas.cc:2981] Unable to register cuBLAS factory: Attempting to register factory for plugin cuBLAS when one has already been registered\n",
      "2023-03-19 04:22:57.114767: W tensorflow/stream_executor/platform/default/dso_loader.cc:64] Could not load dynamic library 'libnvinfer.so.7'; dlerror: libnvinfer.so.7: cannot open shared object file: No such file or directory\n",
      "2023-03-19 04:22:57.114814: W tensorflow/stream_executor/platform/default/dso_loader.cc:64] Could not load dynamic library 'libnvinfer_plugin.so.7'; dlerror: libnvinfer_plugin.so.7: cannot open shared object file: No such file or directory\n",
      "2023-03-19 04:22:57.114816: W tensorflow/compiler/tf2tensorrt/utils/py_utils.cc:38] TF-TRT Warning: Cannot dlopen some TensorRT libraries. If you would like to use Nvidia GPU with TensorRT, please make sure the missing libraries mentioned above are installed properly.\n"
     ]
    }
   ],
   "source": [
    "from keras.datasets import fashion_mnist\n",
    "\n",
    "(X_train, y_train), (X_test, y_test) = fashion_mnist.load_data()\n",
    "\n",
    "def one_hot(inarray): #converts to one hot encoding\n",
    "    outarray = np.zeros((inarray.size, inarray.max() + 1))\n",
    "    outarray[np.arange(inarray.size), inarray] = 1\n",
    "    return outarray\n",
    "\n",
    "def Preprocess(X,y):\n",
    "      \n",
    "    '''Unrolls X,y, rehsapes into column vectors, one hots y'''\n",
    "    assert(X.shape[0]==y.shape[0]),\"Inputs must contain same number of examples, stored in rows\" #checks if same dim\n",
    "    \n",
    "    X_processed=np.reshape(X,(X.shape[0],784))/255\n",
    "    X_processed=X_processed.T\n",
    "    y_processed=one_hot(y).T\n",
    "    return np.array(X_processed),y_processed\n",
    "        \n",
    "    \n",
    "\n",
    "\n",
    "\n",
    "Xtest,ytest=Preprocess(X_test,y_test)\n",
    "\n",
    "from sklearn.model_selection import train_test_split\n",
    "\n",
    "Xtrain,Xval,ytrain,yval=train_test_split(X_train,y_train,test_size=0.1)\n",
    "Xtrain,ytrain=Preprocess(Xtrain,ytrain)\n",
    "Xval,yval=Preprocess(Xval,yval)"
   ]
  },
  {
   "cell_type": "code",
   "execution_count": 12,
   "id": "fabdaefd",
   "metadata": {},
   "outputs": [],
   "source": [
    "def WandB_sweep():\n",
    "    #default hyper-param vals\n",
    "    config_defaults={\n",
    "        'num_layers':3,\n",
    "        'const_hidden_layer_size':2,\n",
    "        'const_hidden_layer_activation':'relu',\n",
    "        'const_hidden_layer_initializations':'He',\n",
    "        'optimizer':'adam',\n",
    "        'lamdba':0,\n",
    "        'batch_size':32,\n",
    "        'epochs':10,\n",
    "        'learning_rate':1e-3\n",
    "        \n",
    "    }\n",
    "    \n",
    "    # Initialize new wandb run\n",
    "    wandb.init(config=config_defaults)\n",
    "    #current config\n",
    "    config = wandb.config\n",
    "    \n",
    "    np.random.seed(0) #setting a seed to make better inference of use of params\n",
    "    \n",
    "    \n",
    "    opt=optimizers_wandb(X_size=784,Y_size=10,num_layers=config.num_layers,\n",
    "                         const_hidden_layer_size=config.const_hidden_layer_size,\n",
    "                         const_hidden_layer_activation=config.const_hidden_layer_activation,\n",
    "                         const_hidden_layer_initializations=config.const_hidden_layer_initializations,\n",
    "                         optimizer=config.optimizer,lamdba=config.lamdba,\n",
    "                         batch_size=config.batch_size,epochs=config.epochs,eta=config.learning_rate,\n",
    "                         ES=True,loss='cross-entropy')\n",
    "    \n",
    "    opt.run((Xtrain,ytrain),(Xval,yval))\n",
    "    \n",
    "    \n",
    "    run_name='Run num_lay_' + str(config.num_layers) +\\\n",
    "    ' hid_lay_size_' + str(config.const_hidden_layer_size) +\\\n",
    "    ' activ_' + str(config.const_hidden_layer_activation) +\\\n",
    "    ' wt_init_' + str(config.const_hidden_layer_initializations) +\\\n",
    "    ' Opt_' + str(config.optimizer)+\\\n",
    "    'lrn_rate_'+ str(config.learning_rate)\n",
    "    ' l2_' + str(config.lamdba)+\\\n",
    "    ' batch_size_' + str(config.batch_size)+\\\n",
    "    ' epochs_'+str(config.epochs)+'ES'\n",
    "    print(run_name)\n",
    "    # Meaningful name for the run\n",
    "\n",
    "    wandb.run.name = run_name\n",
    "    wandb.run.save()\n",
    "    wandb.run.finish()\n",
    "\n",
    "    \n",
    "    \n",
    "    \n"
   ]
  },
  {
   "cell_type": "code",
   "execution_count": 13,
   "id": "f7411131",
   "metadata": {},
   "outputs": [
    {
     "name": "stderr",
     "output_type": "stream",
     "text": [
      "\u001b[34m\u001b[1mwandb\u001b[0m: Currently logged in as: \u001b[33mpragalbh\u001b[0m (\u001b[33mpragalbh-tushar\u001b[0m). Use \u001b[1m`wandb login --relogin`\u001b[0m to force relogin\n"
     ]
    },
    {
     "data": {
      "text/plain": [
       "True"
      ]
     },
     "execution_count": 13,
     "metadata": {},
     "output_type": "execute_result"
    }
   ],
   "source": [
    "wandb.login()"
   ]
  },
  {
   "cell_type": "code",
   "execution_count": 14,
   "id": "9a7f4fc1",
   "metadata": {},
   "outputs": [],
   "source": [
    "sweep_config = {\n",
    "  \"name\": \"CrossEntropy_HeXav_init_adarms_ES\",\n",
    "  \"metric\": {\n",
    "      \"name\":\"validation_loss\",\n",
    "      \"goal\": \"minimize\"\n",
    "  },\n",
    "  \"method\": \"random\",\n",
    "  \"parameters\": {\n",
    "              'num_layers':{\n",
    "                  \"values\":[3,4,5]\n",
    "              },\n",
    "        'const_hidden_layer_size':{\n",
    "                \"values\":  [64, 128]\n",
    "                  \n",
    "              },\n",
    "        'const_hidden_layer_activation':{\n",
    "            \"values\": [\"relu\"]\n",
    "        },\n",
    "      \n",
    "        'const_hidden_layer_initializations':{\n",
    "            'values': ['He']\n",
    "        },\n",
    "        \"optimizer\": {\n",
    "            \"values\": [\"adam\", \"rmsprop\"]\n",
    "        },\n",
    "        'lamdba': {\n",
    "            \"values\": [0, 0.05]\n",
    "        },\n",
    "        'batch_size': {\n",
    "            \"values\": [32,64]\n",
    "        },\n",
    "        'epochs': {\n",
    "            \"values\": [40]\n",
    "        } ,\n",
    "        'learning_rate': {\n",
    "            \"values\": [ 1e-3]\n",
    "        },\n",
    "        \n",
    "    }\n",
    "}      \n",
    "\n"
   ]
  },
  {
   "cell_type": "code",
   "execution_count": 15,
   "id": "607aa064",
   "metadata": {},
   "outputs": [
    {
     "name": "stdout",
     "output_type": "stream",
     "text": [
      "Create sweep with ID: k8fb48i7\n",
      "Sweep URL: https://wandb.ai/pragalbh/DL-Assign1/sweeps/k8fb48i7\n"
     ]
    }
   ],
   "source": [
    "sweep_id = wandb.sweep(sweep_config,  entity=\"pragalbh\", project=\"DL-Assign1\")\n",
    "\n"
   ]
  },
  {
   "cell_type": "code",
   "execution_count": 16,
   "id": "84f64a35",
   "metadata": {},
   "outputs": [
    {
     "name": "stderr",
     "output_type": "stream",
     "text": [
      "\u001b[34m\u001b[1mwandb\u001b[0m: Agent Starting Run: 9ku1yynj with config:\n",
      "\u001b[34m\u001b[1mwandb\u001b[0m: \tbatch_size: 32\n",
      "\u001b[34m\u001b[1mwandb\u001b[0m: \tconst_hidden_layer_activation: relu\n",
      "\u001b[34m\u001b[1mwandb\u001b[0m: \tconst_hidden_layer_initializations: He\n",
      "\u001b[34m\u001b[1mwandb\u001b[0m: \tconst_hidden_layer_size: 128\n",
      "\u001b[34m\u001b[1mwandb\u001b[0m: \tepochs: 40\n",
      "\u001b[34m\u001b[1mwandb\u001b[0m: \tlamdba: 0.05\n",
      "\u001b[34m\u001b[1mwandb\u001b[0m: \tlearning_rate: 0.001\n",
      "\u001b[34m\u001b[1mwandb\u001b[0m: \tnum_layers: 5\n",
      "\u001b[34m\u001b[1mwandb\u001b[0m: \toptimizer: rmsprop\n",
      "\u001b[34m\u001b[1mwandb\u001b[0m: Currently logged in as: \u001b[33mpragalbh\u001b[0m. Use \u001b[1m`wandb login --relogin`\u001b[0m to force relogin\n"
     ]
    },
    {
     "data": {
      "text/html": [
       "Tracking run with wandb version 0.14.0"
      ],
      "text/plain": [
       "<IPython.core.display.HTML object>"
      ]
     },
     "metadata": {},
     "output_type": "display_data"
    },
    {
     "data": {
      "text/html": [
       "Run data is saved locally in <code>/home/pragalbh/wandb/run-20230319_042308-9ku1yynj</code>"
      ],
      "text/plain": [
       "<IPython.core.display.HTML object>"
      ]
     },
     "metadata": {},
     "output_type": "display_data"
    },
    {
     "data": {
      "text/html": [
       "Syncing run <strong><a href='https://wandb.ai/pragalbh/DL-Assign1/runs/9ku1yynj' target=\"_blank\">dry-sweep-1</a></strong> to <a href='https://wandb.ai/pragalbh/DL-Assign1' target=\"_blank\">Weights & Biases</a> (<a href='https://wandb.me/run' target=\"_blank\">docs</a>)<br/>Sweep page: <a href='https://wandb.ai/pragalbh/DL-Assign1/sweeps/k8fb48i7' target=\"_blank\">https://wandb.ai/pragalbh/DL-Assign1/sweeps/k8fb48i7</a>"
      ],
      "text/plain": [
       "<IPython.core.display.HTML object>"
      ]
     },
     "metadata": {},
     "output_type": "display_data"
    },
    {
     "data": {
      "text/html": [
       " View project at <a href='https://wandb.ai/pragalbh/DL-Assign1' target=\"_blank\">https://wandb.ai/pragalbh/DL-Assign1</a>"
      ],
      "text/plain": [
       "<IPython.core.display.HTML object>"
      ]
     },
     "metadata": {},
     "output_type": "display_data"
    },
    {
     "data": {
      "text/html": [
       " View sweep at <a href='https://wandb.ai/pragalbh/DL-Assign1/sweeps/k8fb48i7' target=\"_blank\">https://wandb.ai/pragalbh/DL-Assign1/sweeps/k8fb48i7</a>"
      ],
      "text/plain": [
       "<IPython.core.display.HTML object>"
      ]
     },
     "metadata": {},
     "output_type": "display_data"
    },
    {
     "data": {
      "text/html": [
       " View run at <a href='https://wandb.ai/pragalbh/DL-Assign1/runs/9ku1yynj' target=\"_blank\">https://wandb.ai/pragalbh/DL-Assign1/runs/9ku1yynj</a>"
      ],
      "text/plain": [
       "<IPython.core.display.HTML object>"
      ]
     },
     "metadata": {},
     "output_type": "display_data"
    },
    {
     "name": "stderr",
     "output_type": "stream",
     "text": [
      " 30%|████████████████████████▉                                                          | 12/40 [03:33<12:29, 26.78s/it]"
     ]
    },
    {
     "name": "stdout",
     "output_type": "stream",
     "text": [
      "Early stopping at epoch:  12 reverting to epoch  7\n"
     ]
    },
    {
     "name": "stderr",
     "output_type": "stream",
     "text": [
      " 30%|████████████████████████▉                                                          | 12/40 [04:10<09:44, 20.89s/it]\n"
     ]
    },
    {
     "data": {
      "image/png": "[encoded data removed]",
      "text/plain": [
       "<Figure size 640x480 with 1 Axes>"
      ]
     },
     "metadata": {},
     "output_type": "display_data"
    },
    {
     "name": "stderr",
     "output_type": "stream",
     "text": [
      "\u001b[34m\u001b[1mwandb\u001b[0m: \u001b[33mWARNING\u001b[0m Calling wandb.run.save without any arguments is deprecated.Changes to attributes are automatically persisted.\n"
     ]
    },
    {
     "name": "stdout",
     "output_type": "stream",
     "text": [
      "Run num_lay_5 hid_lay_size_128 activ_relu wt_init_He Opt_rmsproplrn_rate_0.001\n"
     ]
    },
    {
     "data": {
      "text/html": [
       "Waiting for W&B process to finish... <strong style=\"color:green\">(success).</strong>"
      ],
      "text/plain": [
       "<IPython.core.display.HTML object>"
      ]
     },
     "metadata": {},
     "output_type": "display_data"
    },
    {
     "data": {
      "text/html": [
       "<style>\n",
       "    table.wandb td:nth-child(1) { padding: 0 10px; text-align: left ; width: auto;} td:nth-child(2) {text-align: left ; width: 100%}\n",
       "    .wandb-row { display: flex; flex-direction: row; flex-wrap: wrap; justify-content: flex-start; width: 100% }\n",
       "    .wandb-col { display: flex; flex-direction: column; flex-basis: 100%; flex: 1; padding: 10px; }\n",
       "    </style>\n",
       "<div class=\"wandb-row\"><div class=\"wandb-col\"><h3>Run history:</h3><br/><table class=\"wandb\"><tr><td>epoch</td><td>▁▂▂▃▄▅▇█</td></tr><tr><td>train_acc</td><td>▁▄▅▆█▇█▇</td></tr><tr><td>train_loss</td><td>█▅▄▂▁▁▂▁</td></tr><tr><td>val_acc</td><td>▁▄▅▆█▇▇▇</td></tr><tr><td>val_loss</td><td>█▄▄▂▁▁▅▁</td></tr></table><br/></div><div class=\"wandb-col\"><h3>Run summary:</h3><br/><table class=\"wandb\"><tr><td>epoch</td><td>13</td></tr><tr><td>train_acc</td><td>0.88</td></tr><tr><td>train_loss</td><td>0.48276</td></tr><tr><td>val_acc</td><td>0.86667</td></tr><tr><td>val_loss</td><td>0.55506</td></tr></table><br/></div></div>"
      ],
      "text/plain": [
       "<IPython.core.display.HTML object>"
      ]
     },
     "metadata": {},
     "output_type": "display_data"
    },
    {
     "data": {
      "text/html": [
       " View run <strong style=\"color:#cdcd00\">dry-sweep-1</strong> at: <a href='https://wandb.ai/pragalbh/DL-Assign1/runs/9ku1yynj' target=\"_blank\">https://wandb.ai/pragalbh/DL-Assign1/runs/9ku1yynj</a><br/>Synced 6 W&B file(s), 0 media file(s), 0 artifact file(s) and 0 other file(s)"
      ],
      "text/plain": [
       "<IPython.core.display.HTML object>"
      ]
     },
     "metadata": {},
     "output_type": "display_data"
    },
    {
     "data": {
      "text/html": [
       "Find logs at: <code>./wandb/run-20230319_042308-9ku1yynj/logs</code>"
      ],
      "text/plain": [
       "<IPython.core.display.HTML object>"
      ]
     },
     "metadata": {},
     "output_type": "display_data"
    },
    {
     "name": "stderr",
     "output_type": "stream",
     "text": [
      "\u001b[34m\u001b[1mwandb\u001b[0m: Agent Starting Run: s7uey48l with config:\n",
      "\u001b[34m\u001b[1mwandb\u001b[0m: \tbatch_size: 32\n",
      "\u001b[34m\u001b[1mwandb\u001b[0m: \tconst_hidden_layer_activation: relu\n",
      "\u001b[34m\u001b[1mwandb\u001b[0m: \tconst_hidden_layer_initializations: He\n",
      "\u001b[34m\u001b[1mwandb\u001b[0m: \tconst_hidden_layer_size: 128\n",
      "\u001b[34m\u001b[1mwandb\u001b[0m: \tepochs: 40\n",
      "\u001b[34m\u001b[1mwandb\u001b[0m: \tlamdba: 0\n",
      "\u001b[34m\u001b[1mwandb\u001b[0m: \tlearning_rate: 0.001\n",
      "\u001b[34m\u001b[1mwandb\u001b[0m: \tnum_layers: 4\n",
      "\u001b[34m\u001b[1mwandb\u001b[0m: \toptimizer: adam\n"
     ]
    },
    {
     "data": {
      "text/html": [
       "Tracking run with wandb version 0.14.0"
      ],
      "text/plain": [
       "<IPython.core.display.HTML object>"
      ]
     },
     "metadata": {},
     "output_type": "display_data"
    },
    {
     "data": {
      "text/html": [
       "Run data is saved locally in <code>/home/pragalbh/wandb/run-20230319_042733-s7uey48l</code>"
      ],
      "text/plain": [
       "<IPython.core.display.HTML object>"
      ]
     },
     "metadata": {},
     "output_type": "display_data"
    },
    {
     "data": {
      "text/html": [
       "Syncing run <strong><a href='https://wandb.ai/pragalbh/DL-Assign1/runs/s7uey48l' target=\"_blank\">golden-sweep-2</a></strong> to <a href='https://wandb.ai/pragalbh/DL-Assign1' target=\"_blank\">Weights & Biases</a> (<a href='https://wandb.me/run' target=\"_blank\">docs</a>)<br/>Sweep page: <a href='https://wandb.ai/pragalbh/DL-Assign1/sweeps/k8fb48i7' target=\"_blank\">https://wandb.ai/pragalbh/DL-Assign1/sweeps/k8fb48i7</a>"
      ],
      "text/plain": [
       "<IPython.core.display.HTML object>"
      ]
     },
     "metadata": {},
     "output_type": "display_data"
    },
    {
     "data": {
      "text/html": [
       " View project at <a href='https://wandb.ai/pragalbh/DL-Assign1' target=\"_blank\">https://wandb.ai/pragalbh/DL-Assign1</a>"
      ],
      "text/plain": [
       "<IPython.core.display.HTML object>"
      ]
     },
     "metadata": {},
     "output_type": "display_data"
    },
    {
     "data": {
      "text/html": [
       " View sweep at <a href='https://wandb.ai/pragalbh/DL-Assign1/sweeps/k8fb48i7' target=\"_blank\">https://wandb.ai/pragalbh/DL-Assign1/sweeps/k8fb48i7</a>"
      ],
      "text/plain": [
       "<IPython.core.display.HTML object>"
      ]
     },
     "metadata": {},
     "output_type": "display_data"
    },
    {
     "data": {
      "text/html": [
       " View run at <a href='https://wandb.ai/pragalbh/DL-Assign1/runs/s7uey48l' target=\"_blank\">https://wandb.ai/pragalbh/DL-Assign1/runs/s7uey48l</a>"
      ],
      "text/plain": [
       "<IPython.core.display.HTML object>"
      ]
     },
     "metadata": {},
     "output_type": "display_data"
    },
    {
     "name": "stderr",
     "output_type": "stream",
     "text": [
      " 32%|██████████████████████████▉                                                        | 13/40 [00:41<01:29,  3.31s/it]"
     ]
    },
    {
     "name": "stdout",
     "output_type": "stream",
     "text": [
      "Early stopping at epoch:  13 reverting to epoch  8\n"
     ]
    },
    {
     "name": "stderr",
     "output_type": "stream",
     "text": [
      " 32%|██████████████████████████▉                                                        | 13/40 [00:45<01:33,  3.48s/it]\n"
     ]
    },
    {
     "data": {
      "image/png": "[encoded data removed]",
      "text/plain": [
       "<Figure size 640x480 with 1 Axes>"
      ]
     },
     "metadata": {},
     "output_type": "display_data"
    },
    {
     "name": "stdout",
     "output_type": "stream",
     "text": [
      "Run num_lay_4 hid_lay_size_128 activ_relu wt_init_He Opt_adamlrn_rate_0.001\n"
     ]
    },
    {
     "data": {
      "text/html": [
       "Waiting for W&B process to finish... <strong style=\"color:green\">(success).</strong>"
      ],
      "text/plain": [
       "<IPython.core.display.HTML object>"
      ]
     },
     "metadata": {},
     "output_type": "display_data"
    },
    {
     "data": {
      "text/html": [
       "<style>\n",
       "    table.wandb td:nth-child(1) { padding: 0 10px; text-align: left ; width: auto;} td:nth-child(2) {text-align: left ; width: 100%}\n",
       "    .wandb-row { display: flex; flex-direction: row; flex-wrap: wrap; justify-content: flex-start; width: 100% }\n",
       "    .wandb-col { display: flex; flex-direction: column; flex-basis: 100%; flex: 1; padding: 10px; }\n",
       "    </style>\n",
       "<div class=\"wandb-row\"><div class=\"wandb-col\"><h3>Run history:</h3><br/><table class=\"wandb\"><tr><td>epoch</td><td>▁▁▂▃▃▃▄▅▇█</td></tr><tr><td>train_acc</td><td>▁▃▄▅▅▆▆▇█▇</td></tr><tr><td>train_loss</td><td>█▆▅▄▄▃▃▂▁▂</td></tr><tr><td>val_acc</td><td>▁▄▅▇▇▇▇▇█▇</td></tr><tr><td>val_loss</td><td>█▄▃▂▂▁▁▁▂▁</td></tr></table><br/></div><div class=\"wandb-col\"><h3>Run summary:</h3><br/><table class=\"wandb\"><tr><td>epoch</td><td>14</td></tr><tr><td>train_acc</td><td>0.9153</td></tr><tr><td>train_loss</td><td>0.3275</td></tr><tr><td>val_acc</td><td>0.88483</td></tr><tr><td>val_loss</td><td>0.44587</td></tr></table><br/></div></div>"
      ],
      "text/plain": [
       "<IPython.core.display.HTML object>"
      ]
     },
     "metadata": {},
     "output_type": "display_data"
    },
    {
     "data": {
      "text/html": [
       " View run <strong style=\"color:#cdcd00\">golden-sweep-2</strong> at: <a href='https://wandb.ai/pragalbh/DL-Assign1/runs/s7uey48l' target=\"_blank\">https://wandb.ai/pragalbh/DL-Assign1/runs/s7uey48l</a><br/>Synced 6 W&B file(s), 0 media file(s), 0 artifact file(s) and 0 other file(s)"
      ],
      "text/plain": [
       "<IPython.core.display.HTML object>"
      ]
     },
     "metadata": {},
     "output_type": "display_data"
    },
    {
     "data": {
      "text/html": [
       "Find logs at: <code>./wandb/run-20230319_042733-s7uey48l/logs</code>"
      ],
      "text/plain": [
       "<IPython.core.display.HTML object>"
      ]
     },
     "metadata": {},
     "output_type": "display_data"
    },
    {
     "name": "stderr",
     "output_type": "stream",
     "text": [
      "\u001b[34m\u001b[1mwandb\u001b[0m: Agent Starting Run: 6vm939md with config:\n",
      "\u001b[34m\u001b[1mwandb\u001b[0m: \tbatch_size: 32\n",
      "\u001b[34m\u001b[1mwandb\u001b[0m: \tconst_hidden_layer_activation: relu\n",
      "\u001b[34m\u001b[1mwandb\u001b[0m: \tconst_hidden_layer_initializations: He\n",
      "\u001b[34m\u001b[1mwandb\u001b[0m: \tconst_hidden_layer_size: 64\n",
      "\u001b[34m\u001b[1mwandb\u001b[0m: \tepochs: 40\n",
      "\u001b[34m\u001b[1mwandb\u001b[0m: \tlamdba: 0.05\n",
      "\u001b[34m\u001b[1mwandb\u001b[0m: \tlearning_rate: 0.001\n",
      "\u001b[34m\u001b[1mwandb\u001b[0m: \tnum_layers: 3\n",
      "\u001b[34m\u001b[1mwandb\u001b[0m: \toptimizer: adam\n"
     ]
    },
    {
     "data": {
      "text/html": [
       "Tracking run with wandb version 0.14.0"
      ],
      "text/plain": [
       "<IPython.core.display.HTML object>"
      ]
     },
     "metadata": {},
     "output_type": "display_data"
    },
    {
     "data": {
      "text/html": [
       "Run data is saved locally in <code>/home/pragalbh/wandb/run-20230319_042830-6vm939md</code>"
      ],
      "text/plain": [
       "<IPython.core.display.HTML object>"
      ]
     },
     "metadata": {},
     "output_type": "display_data"
    },
    {
     "data": {
      "text/html": [
       "Syncing run <strong><a href='https://wandb.ai/pragalbh/DL-Assign1/runs/6vm939md' target=\"_blank\">worthy-sweep-3</a></strong> to <a href='https://wandb.ai/pragalbh/DL-Assign1' target=\"_blank\">Weights & Biases</a> (<a href='https://wandb.me/run' target=\"_blank\">docs</a>)<br/>Sweep page: <a href='https://wandb.ai/pragalbh/DL-Assign1/sweeps/k8fb48i7' target=\"_blank\">https://wandb.ai/pragalbh/DL-Assign1/sweeps/k8fb48i7</a>"
      ],
      "text/plain": [
       "<IPython.core.display.HTML object>"
      ]
     },
     "metadata": {},
     "output_type": "display_data"
    },
    {
     "data": {
      "text/html": [
       " View project at <a href='https://wandb.ai/pragalbh/DL-Assign1' target=\"_blank\">https://wandb.ai/pragalbh/DL-Assign1</a>"
      ],
      "text/plain": [
       "<IPython.core.display.HTML object>"
      ]
     },
     "metadata": {},
     "output_type": "display_data"
    },
    {
     "data": {
      "text/html": [
       " View sweep at <a href='https://wandb.ai/pragalbh/DL-Assign1/sweeps/k8fb48i7' target=\"_blank\">https://wandb.ai/pragalbh/DL-Assign1/sweeps/k8fb48i7</a>"
      ],
      "text/plain": [
       "<IPython.core.display.HTML object>"
      ]
     },
     "metadata": {},
     "output_type": "display_data"
    },
    {
     "data": {
      "text/html": [
       " View run at <a href='https://wandb.ai/pragalbh/DL-Assign1/runs/6vm939md' target=\"_blank\">https://wandb.ai/pragalbh/DL-Assign1/runs/6vm939md</a>"
      ],
      "text/plain": [
       "<IPython.core.display.HTML object>"
      ]
     },
     "metadata": {},
     "output_type": "display_data"
    },
    {
     "name": "stderr",
     "output_type": "stream",
     "text": [
      " 50%|█████████████████████████████████████████▌                                         | 20/40 [00:36<00:43,  2.16s/it]"
     ]
    },
    {
     "name": "stdout",
     "output_type": "stream",
     "text": [
      "Early stopping at epoch:  20 reverting to epoch  15\n"
     ]
    },
    {
     "name": "stderr",
     "output_type": "stream",
     "text": [
      " 50%|█████████████████████████████████████████▌                                         | 20/40 [00:39<00:39,  1.95s/it]\n"
     ]
    },
    {
     "data": {
      "image/png": "[encoded data removed]",
      "text/plain": [
       "<Figure size 640x480 with 1 Axes>"
      ]
     },
     "metadata": {},
     "output_type": "display_data"
    },
    {
     "name": "stdout",
     "output_type": "stream",
     "text": [
      "Run num_lay_3 hid_lay_size_64 activ_relu wt_init_He Opt_adamlrn_rate_0.001\n"
     ]
    },
    {
     "data": {
      "text/html": [
       "Waiting for W&B process to finish... <strong style=\"color:green\">(success).</strong>"
      ],
      "text/plain": [
       "<IPython.core.display.HTML object>"
      ]
     },
     "metadata": {},
     "output_type": "display_data"
    },
    {
     "data": {
      "text/html": [
       "<style>\n",
       "    table.wandb td:nth-child(1) { padding: 0 10px; text-align: left ; width: auto;} td:nth-child(2) {text-align: left ; width: 100%}\n",
       "    .wandb-row { display: flex; flex-direction: row; flex-wrap: wrap; justify-content: flex-start; width: 100% }\n",
       "    .wandb-col { display: flex; flex-direction: column; flex-basis: 100%; flex: 1; padding: 10px; }\n",
       "    </style>\n",
       "<div class=\"wandb-row\"><div class=\"wandb-col\"><h3>Run history:</h3><br/><table class=\"wandb\"><tr><td>epoch</td><td>▁▁▂▂▂▃▃▃▄▄▄▅▅▆▆██</td></tr><tr><td>train_acc</td><td>▁▃▄▄▅▅▆▆▆▆▇▇▇▇▇█▇</td></tr><tr><td>train_loss</td><td>█▆▅▅▄▄▃▃▃▃▂▂▂▂▂▁▂</td></tr><tr><td>val_acc</td><td>▁▄▅▆▆▆▇▇█████████</td></tr><tr><td>val_loss</td><td>█▅▄▃▃▂▂▂▁▁▁▁▁▁▁▁▁</td></tr></table><br/></div><div class=\"wandb-col\"><h3>Run summary:</h3><br/><table class=\"wandb\"><tr><td>epoch</td><td>21</td></tr><tr><td>train_acc</td><td>0.90826</td></tr><tr><td>train_loss</td><td>0.35755</td></tr><tr><td>val_acc</td><td>0.8845</td></tr><tr><td>val_loss</td><td>0.46115</td></tr></table><br/></div></div>"
      ],
      "text/plain": [
       "<IPython.core.display.HTML object>"
      ]
     },
     "metadata": {},
     "output_type": "display_data"
    },
    {
     "data": {
      "text/html": [
       " View run <strong style=\"color:#cdcd00\">worthy-sweep-3</strong> at: <a href='https://wandb.ai/pragalbh/DL-Assign1/runs/6vm939md' target=\"_blank\">https://wandb.ai/pragalbh/DL-Assign1/runs/6vm939md</a><br/>Synced 6 W&B file(s), 0 media file(s), 0 artifact file(s) and 0 other file(s)"
      ],
      "text/plain": [
       "<IPython.core.display.HTML object>"
      ]
     },
     "metadata": {},
     "output_type": "display_data"
    },
    {
     "data": {
      "text/html": [
       "Find logs at: <code>./wandb/run-20230319_042830-6vm939md/logs</code>"
      ],
      "text/plain": [
       "<IPython.core.display.HTML object>"
      ]
     },
     "metadata": {},
     "output_type": "display_data"
    },
    {
     "name": "stderr",
     "output_type": "stream",
     "text": [
      "\u001b[34m\u001b[1mwandb\u001b[0m: Agent Starting Run: 6sn8ebsb with config:\n",
      "\u001b[34m\u001b[1mwandb\u001b[0m: \tbatch_size: 32\n",
      "\u001b[34m\u001b[1mwandb\u001b[0m: \tconst_hidden_layer_activation: relu\n",
      "\u001b[34m\u001b[1mwandb\u001b[0m: \tconst_hidden_layer_initializations: He\n",
      "\u001b[34m\u001b[1mwandb\u001b[0m: \tconst_hidden_layer_size: 64\n",
      "\u001b[34m\u001b[1mwandb\u001b[0m: \tepochs: 40\n",
      "\u001b[34m\u001b[1mwandb\u001b[0m: \tlamdba: 0\n",
      "\u001b[34m\u001b[1mwandb\u001b[0m: \tlearning_rate: 0.0001\n",
      "\u001b[34m\u001b[1mwandb\u001b[0m: \tnum_layers: 3\n",
      "\u001b[34m\u001b[1mwandb\u001b[0m: \toptimizer: rmsprop\n"
     ]
    },
    {
     "data": {
      "text/html": [
       "Tracking run with wandb version 0.14.0"
      ],
      "text/plain": [
       "<IPython.core.display.HTML object>"
      ]
     },
     "metadata": {},
     "output_type": "display_data"
    },
    {
     "data": {
      "text/html": [
       "Run data is saved locally in <code>/home/pragalbh/wandb/run-20230319_042923-6sn8ebsb</code>"
      ],
      "text/plain": [
       "<IPython.core.display.HTML object>"
      ]
     },
     "metadata": {},
     "output_type": "display_data"
    },
    {
     "data": {
      "text/html": [
       "Syncing run <strong><a href='https://wandb.ai/pragalbh/DL-Assign1/runs/6sn8ebsb' target=\"_blank\">firm-sweep-4</a></strong> to <a href='https://wandb.ai/pragalbh/DL-Assign1' target=\"_blank\">Weights & Biases</a> (<a href='https://wandb.me/run' target=\"_blank\">docs</a>)<br/>Sweep page: <a href='https://wandb.ai/pragalbh/DL-Assign1/sweeps/k8fb48i7' target=\"_blank\">https://wandb.ai/pragalbh/DL-Assign1/sweeps/k8fb48i7</a>"
      ],
      "text/plain": [
       "<IPython.core.display.HTML object>"
      ]
     },
     "metadata": {},
     "output_type": "display_data"
    },
    {
     "data": {
      "text/html": [
       " View project at <a href='https://wandb.ai/pragalbh/DL-Assign1' target=\"_blank\">https://wandb.ai/pragalbh/DL-Assign1</a>"
      ],
      "text/plain": [
       "<IPython.core.display.HTML object>"
      ]
     },
     "metadata": {},
     "output_type": "display_data"
    },
    {
     "data": {
      "text/html": [
       " View sweep at <a href='https://wandb.ai/pragalbh/DL-Assign1/sweeps/k8fb48i7' target=\"_blank\">https://wandb.ai/pragalbh/DL-Assign1/sweeps/k8fb48i7</a>"
      ],
      "text/plain": [
       "<IPython.core.display.HTML object>"
      ]
     },
     "metadata": {},
     "output_type": "display_data"
    },
    {
     "data": {
      "text/html": [
       " View run at <a href='https://wandb.ai/pragalbh/DL-Assign1/runs/6sn8ebsb' target=\"_blank\">https://wandb.ai/pragalbh/DL-Assign1/runs/6sn8ebsb</a>"
      ],
      "text/plain": [
       "<IPython.core.display.HTML object>"
      ]
     },
     "metadata": {},
     "output_type": "display_data"
    },
    {
     "name": "stderr",
     "output_type": "stream",
     "text": [
      " 82%|████████████████████████████████████████████████████████████████████▍              | 33/40 [00:36<00:07,  1.14s/it]"
     ]
    },
    {
     "name": "stdout",
     "output_type": "stream",
     "text": [
      "Early stopping at epoch:  33 reverting to epoch  28\n"
     ]
    },
    {
     "name": "stderr",
     "output_type": "stream",
     "text": [
      " 82%|████████████████████████████████████████████████████████████████████▍              | 33/40 [00:38<00:08,  1.17s/it]\n"
     ]
    },
    {
     "data": {
      "image/png": "[encoded data removed]",
      "text/plain": [
       "<Figure size 640x480 with 1 Axes>"
      ]
     },
     "metadata": {},
     "output_type": "display_data"
    },
    {
     "name": "stdout",
     "output_type": "stream",
     "text": [
      "Run num_lay_3 hid_lay_size_64 activ_relu wt_init_He Opt_rmsproplrn_rate_0.0001\n"
     ]
    },
    {
     "data": {
      "text/html": [
       "Waiting for W&B process to finish... <strong style=\"color:green\">(success).</strong>"
      ],
      "text/plain": [
       "<IPython.core.display.HTML object>"
      ]
     },
     "metadata": {},
     "output_type": "display_data"
    },
    {
     "data": {
      "text/html": [
       "<style>\n",
       "    table.wandb td:nth-child(1) { padding: 0 10px; text-align: left ; width: auto;} td:nth-child(2) {text-align: left ; width: 100%}\n",
       "    .wandb-row { display: flex; flex-direction: row; flex-wrap: wrap; justify-content: flex-start; width: 100% }\n",
       "    .wandb-col { display: flex; flex-direction: column; flex-basis: 100%; flex: 1; padding: 10px; }\n",
       "    </style>\n",
       "<div class=\"wandb-row\"><div class=\"wandb-col\"><h3>Run history:</h3><br/><table class=\"wandb\"><tr><td>epoch</td><td>▁▁▁▂▂▂▂▂▃▃▃▃▃▄▄▄▄▅▅▆▇██</td></tr><tr><td>train_acc</td><td>▁▃▄▄▅▅▅▅▆▆▆▆▆▆▆▇▇▇▇▇███</td></tr><tr><td>train_loss</td><td>█▆▅▅▄▄▄▃▃▃▃▃▃▃▂▂▂▂▂▂▁▁▁</td></tr><tr><td>val_acc</td><td>▁▄▅▅▆▆▆▇▇▇▇▇▇▇▇▇▇▇█████</td></tr><tr><td>val_loss</td><td>█▅▄▄▃▃▂▂▂▂▂▂▁▁▁▁▁▁▁▁▁▁▁</td></tr></table><br/></div><div class=\"wandb-col\"><h3>Run summary:</h3><br/><table class=\"wandb\"><tr><td>epoch</td><td>34</td></tr><tr><td>train_acc</td><td>0.909</td></tr><tr><td>train_loss</td><td>0.36378</td></tr><tr><td>val_acc</td><td>0.8835</td></tr><tr><td>val_loss</td><td>0.48458</td></tr></table><br/></div></div>"
      ],
      "text/plain": [
       "<IPython.core.display.HTML object>"
      ]
     },
     "metadata": {},
     "output_type": "display_data"
    },
    {
     "data": {
      "text/html": [
       " View run <strong style=\"color:#cdcd00\">firm-sweep-4</strong> at: <a href='https://wandb.ai/pragalbh/DL-Assign1/runs/6sn8ebsb' target=\"_blank\">https://wandb.ai/pragalbh/DL-Assign1/runs/6sn8ebsb</a><br/>Synced 6 W&B file(s), 0 media file(s), 0 artifact file(s) and 0 other file(s)"
      ],
      "text/plain": [
       "<IPython.core.display.HTML object>"
      ]
     },
     "metadata": {},
     "output_type": "display_data"
    },
    {
     "data": {
      "text/html": [
       "Find logs at: <code>./wandb/run-20230319_042923-6sn8ebsb/logs</code>"
      ],
      "text/plain": [
       "<IPython.core.display.HTML object>"
      ]
     },
     "metadata": {},
     "output_type": "display_data"
    },
    {
     "name": "stderr",
     "output_type": "stream",
     "text": [
      "\u001b[34m\u001b[1mwandb\u001b[0m: Agent Starting Run: t1dyv5xm with config:\n",
      "\u001b[34m\u001b[1mwandb\u001b[0m: \tbatch_size: 32\n",
      "\u001b[34m\u001b[1mwandb\u001b[0m: \tconst_hidden_layer_activation: relu\n",
      "\u001b[34m\u001b[1mwandb\u001b[0m: \tconst_hidden_layer_initializations: He\n",
      "\u001b[34m\u001b[1mwandb\u001b[0m: \tconst_hidden_layer_size: 64\n",
      "\u001b[34m\u001b[1mwandb\u001b[0m: \tepochs: 40\n",
      "\u001b[34m\u001b[1mwandb\u001b[0m: \tlamdba: 0.05\n",
      "\u001b[34m\u001b[1mwandb\u001b[0m: \tlearning_rate: 0.0001\n",
      "\u001b[34m\u001b[1mwandb\u001b[0m: \tnum_layers: 3\n",
      "\u001b[34m\u001b[1mwandb\u001b[0m: \toptimizer: rmsprop\n"
     ]
    },
    {
     "data": {
      "text/html": [
       "Tracking run with wandb version 0.14.0"
      ],
      "text/plain": [
       "<IPython.core.display.HTML object>"
      ]
     },
     "metadata": {},
     "output_type": "display_data"
    },
    {
     "data": {
      "text/html": [
       "Run data is saved locally in <code>/home/pragalbh/wandb/run-20230319_043016-t1dyv5xm</code>"
      ],
      "text/plain": [
       "<IPython.core.display.HTML object>"
      ]
     },
     "metadata": {},
     "output_type": "display_data"
    },
    {
     "data": {
      "text/html": [
       "Syncing run <strong><a href='https://wandb.ai/pragalbh/DL-Assign1/runs/t1dyv5xm' target=\"_blank\">elated-sweep-5</a></strong> to <a href='https://wandb.ai/pragalbh/DL-Assign1' target=\"_blank\">Weights & Biases</a> (<a href='https://wandb.me/run' target=\"_blank\">docs</a>)<br/>Sweep page: <a href='https://wandb.ai/pragalbh/DL-Assign1/sweeps/k8fb48i7' target=\"_blank\">https://wandb.ai/pragalbh/DL-Assign1/sweeps/k8fb48i7</a>"
      ],
      "text/plain": [
       "<IPython.core.display.HTML object>"
      ]
     },
     "metadata": {},
     "output_type": "display_data"
    },
    {
     "data": {
      "text/html": [
       " View project at <a href='https://wandb.ai/pragalbh/DL-Assign1' target=\"_blank\">https://wandb.ai/pragalbh/DL-Assign1</a>"
      ],
      "text/plain": [
       "<IPython.core.display.HTML object>"
      ]
     },
     "metadata": {},
     "output_type": "display_data"
    },
    {
     "data": {
      "text/html": [
       " View sweep at <a href='https://wandb.ai/pragalbh/DL-Assign1/sweeps/k8fb48i7' target=\"_blank\">https://wandb.ai/pragalbh/DL-Assign1/sweeps/k8fb48i7</a>"
      ],
      "text/plain": [
       "<IPython.core.display.HTML object>"
      ]
     },
     "metadata": {},
     "output_type": "display_data"
    },
    {
     "data": {
      "text/html": [
       " View run at <a href='https://wandb.ai/pragalbh/DL-Assign1/runs/t1dyv5xm' target=\"_blank\">https://wandb.ai/pragalbh/DL-Assign1/runs/t1dyv5xm</a>"
      ],
      "text/plain": [
       "<IPython.core.display.HTML object>"
      ]
     },
     "metadata": {},
     "output_type": "display_data"
    },
    {
     "name": "stderr",
     "output_type": "stream",
     "text": [
      " 70%|██████████████████████████████████████████████████████████                         | 28/40 [00:31<00:15,  1.31s/it]"
     ]
    },
    {
     "name": "stdout",
     "output_type": "stream",
     "text": [
      "Early stopping at epoch:  28 reverting to epoch  23\n"
     ]
    },
    {
     "name": "stderr",
     "output_type": "stream",
     "text": [
      " 70%|██████████████████████████████████████████████████████████                         | 28/40 [00:34<00:14,  1.22s/it]\n"
     ]
    },
    {
     "data": {
      "image/png": "[encoded data removed]",
      "text/plain": [
       "<Figure size 640x480 with 1 Axes>"
      ]
     },
     "metadata": {},
     "output_type": "display_data"
    },
    {
     "name": "stdout",
     "output_type": "stream",
     "text": [
      "Run num_lay_3 hid_lay_size_64 activ_relu wt_init_He Opt_rmsproplrn_rate_0.0001\n"
     ]
    },
    {
     "data": {
      "text/html": [
       "Waiting for W&B process to finish... <strong style=\"color:green\">(success).</strong>"
      ],
      "text/plain": [
       "<IPython.core.display.HTML object>"
      ]
     },
     "metadata": {},
     "output_type": "display_data"
    },
    {
     "data": {
      "text/html": [
       "<style>\n",
       "    table.wandb td:nth-child(1) { padding: 0 10px; text-align: left ; width: auto;} td:nth-child(2) {text-align: left ; width: 100%}\n",
       "    .wandb-row { display: flex; flex-direction: row; flex-wrap: wrap; justify-content: flex-start; width: 100% }\n",
       "    .wandb-col { display: flex; flex-direction: column; flex-basis: 100%; flex: 1; padding: 10px; }\n",
       "    </style>\n",
       "<div class=\"wandb-row\"><div class=\"wandb-col\"><h3>Run history:</h3><br/><table class=\"wandb\"><tr><td>epoch</td><td>▁▁▁▂▂▂▂▃▃▃▃▄▄▄▄▅▅▅▅▆▇██</td></tr><tr><td>train_acc</td><td>▁▃▄▄▅▅▅▆▆▆▆▆▇▇▇▇▇▇▇████</td></tr><tr><td>train_loss</td><td>█▆▅▄▄▄▃▃▃▃▃▂▂▂▂▂▂▂▂▁▁▁▁</td></tr><tr><td>val_acc</td><td>▁▄▅▆▆▆▇▇▇▇▇▇███████████</td></tr><tr><td>val_loss</td><td>█▅▄▃▃▃▂▂▂▂▂▁▁▁▁▁▁▁▁▁▁▁▁</td></tr></table><br/></div><div class=\"wandb-col\"><h3>Run summary:</h3><br/><table class=\"wandb\"><tr><td>epoch</td><td>29</td></tr><tr><td>train_acc</td><td>0.90361</td></tr><tr><td>train_loss</td><td>0.38491</td></tr><tr><td>val_acc</td><td>0.87917</td></tr><tr><td>val_loss</td><td>0.48608</td></tr></table><br/></div></div>"
      ],
      "text/plain": [
       "<IPython.core.display.HTML object>"
      ]
     },
     "metadata": {},
     "output_type": "display_data"
    },
    {
     "data": {
      "text/html": [
       " View run <strong style=\"color:#cdcd00\">elated-sweep-5</strong> at: <a href='https://wandb.ai/pragalbh/DL-Assign1/runs/t1dyv5xm' target=\"_blank\">https://wandb.ai/pragalbh/DL-Assign1/runs/t1dyv5xm</a><br/>Synced 6 W&B file(s), 0 media file(s), 0 artifact file(s) and 0 other file(s)"
      ],
      "text/plain": [
       "<IPython.core.display.HTML object>"
      ]
     },
     "metadata": {},
     "output_type": "display_data"
    },
    {
     "data": {
      "text/html": [
       "Find logs at: <code>./wandb/run-20230319_043016-t1dyv5xm/logs</code>"
      ],
      "text/plain": [
       "<IPython.core.display.HTML object>"
      ]
     },
     "metadata": {},
     "output_type": "display_data"
    },
    {
     "name": "stderr",
     "output_type": "stream",
     "text": [
      "\u001b[34m\u001b[1mwandb\u001b[0m: Agent Starting Run: ei3uox3c with config:\n",
      "\u001b[34m\u001b[1mwandb\u001b[0m: \tbatch_size: 64\n",
      "\u001b[34m\u001b[1mwandb\u001b[0m: \tconst_hidden_layer_activation: relu\n",
      "\u001b[34m\u001b[1mwandb\u001b[0m: \tconst_hidden_layer_initializations: He\n",
      "\u001b[34m\u001b[1mwandb\u001b[0m: \tconst_hidden_layer_size: 128\n",
      "\u001b[34m\u001b[1mwandb\u001b[0m: \tepochs: 40\n",
      "\u001b[34m\u001b[1mwandb\u001b[0m: \tlamdba: 0\n",
      "\u001b[34m\u001b[1mwandb\u001b[0m: \tlearning_rate: 0.0001\n",
      "\u001b[34m\u001b[1mwandb\u001b[0m: \tnum_layers: 5\n",
      "\u001b[34m\u001b[1mwandb\u001b[0m: \toptimizer: rmsprop\n"
     ]
    },
    {
     "data": {
      "text/html": [
       "Tracking run with wandb version 0.14.0"
      ],
      "text/plain": [
       "<IPython.core.display.HTML object>"
      ]
     },
     "metadata": {},
     "output_type": "display_data"
    },
    {
     "data": {
      "text/html": [
       "Run data is saved locally in <code>/home/pragalbh/wandb/run-20230319_043104-ei3uox3c</code>"
      ],
      "text/plain": [
       "<IPython.core.display.HTML object>"
      ]
     },
     "metadata": {},
     "output_type": "display_data"
    },
    {
     "data": {
      "text/html": [
       "Syncing run <strong><a href='https://wandb.ai/pragalbh/DL-Assign1/runs/ei3uox3c' target=\"_blank\">elated-sweep-6</a></strong> to <a href='https://wandb.ai/pragalbh/DL-Assign1' target=\"_blank\">Weights & Biases</a> (<a href='https://wandb.me/run' target=\"_blank\">docs</a>)<br/>Sweep page: <a href='https://wandb.ai/pragalbh/DL-Assign1/sweeps/k8fb48i7' target=\"_blank\">https://wandb.ai/pragalbh/DL-Assign1/sweeps/k8fb48i7</a>"
      ],
      "text/plain": [
       "<IPython.core.display.HTML object>"
      ]
     },
     "metadata": {},
     "output_type": "display_data"
    },
    {
     "data": {
      "text/html": [
       " View project at <a href='https://wandb.ai/pragalbh/DL-Assign1' target=\"_blank\">https://wandb.ai/pragalbh/DL-Assign1</a>"
      ],
      "text/plain": [
       "<IPython.core.display.HTML object>"
      ]
     },
     "metadata": {},
     "output_type": "display_data"
    },
    {
     "data": {
      "text/html": [
       " View sweep at <a href='https://wandb.ai/pragalbh/DL-Assign1/sweeps/k8fb48i7' target=\"_blank\">https://wandb.ai/pragalbh/DL-Assign1/sweeps/k8fb48i7</a>"
      ],
      "text/plain": [
       "<IPython.core.display.HTML object>"
      ]
     },
     "metadata": {},
     "output_type": "display_data"
    },
    {
     "data": {
      "text/html": [
       " View run at <a href='https://wandb.ai/pragalbh/DL-Assign1/runs/ei3uox3c' target=\"_blank\">https://wandb.ai/pragalbh/DL-Assign1/runs/ei3uox3c</a>"
      ],
      "text/plain": [
       "<IPython.core.display.HTML object>"
      ]
     },
     "metadata": {},
     "output_type": "display_data"
    },
    {
     "name": "stderr",
     "output_type": "stream",
     "text": [
      " 42%|███████████████████████████████████▎                                               | 17/40 [00:29<00:39,  1.72s/it]"
     ]
    },
    {
     "name": "stdout",
     "output_type": "stream",
     "text": [
      "Early stopping at epoch:  17 reverting to epoch  12\n"
     ]
    },
    {
     "name": "stderr",
     "output_type": "stream",
     "text": [
      " 42%|███████████████████████████████████▎                                               | 17/40 [00:31<00:42,  1.86s/it]\n"
     ]
    },
    {
     "data": {
      "image/png": "[encoded data removed]",
      "text/plain": [
       "<Figure size 640x480 with 1 Axes>"
      ]
     },
     "metadata": {},
     "output_type": "display_data"
    },
    {
     "name": "stdout",
     "output_type": "stream",
     "text": [
      "Run num_lay_5 hid_lay_size_128 activ_relu wt_init_He Opt_rmsproplrn_rate_0.0001\n"
     ]
    },
    {
     "data": {
      "text/html": [
       "Waiting for W&B process to finish... <strong style=\"color:green\">(success).</strong>"
      ],
      "text/plain": [
       "<IPython.core.display.HTML object>"
      ]
     },
     "metadata": {},
     "output_type": "display_data"
    },
    {
     "data": {
      "text/html": [
       "<style>\n",
       "    table.wandb td:nth-child(1) { padding: 0 10px; text-align: left ; width: auto;} td:nth-child(2) {text-align: left ; width: 100%}\n",
       "    .wandb-row { display: flex; flex-direction: row; flex-wrap: wrap; justify-content: flex-start; width: 100% }\n",
       "    .wandb-col { display: flex; flex-direction: column; flex-basis: 100%; flex: 1; padding: 10px; }\n",
       "    </style>\n",
       "<div class=\"wandb-row\"><div class=\"wandb-col\"><h3>Run history:</h3><br/><table class=\"wandb\"><tr><td>epoch</td><td>▁▁▂▂▃▃▃▄▄▅▅▅▆██</td></tr><tr><td>train_acc</td><td>▁▃▄▄▅▅▆▆▆▇▇▇▇█▇</td></tr><tr><td>train_loss</td><td>█▆▅▅▄▄▃▃▃▂▂▂▂▁▂</td></tr><tr><td>val_acc</td><td>▁▄▅▆▆▆▇▇▇▇▇████</td></tr><tr><td>val_loss</td><td>█▅▄▄▃▃▂▂▂▁▁▁▁▁▁</td></tr></table><br/></div><div class=\"wandb-col\"><h3>Run summary:</h3><br/><table class=\"wandb\"><tr><td>epoch</td><td>18</td></tr><tr><td>train_acc</td><td>0.90554</td></tr><tr><td>train_loss</td><td>0.37294</td></tr><tr><td>val_acc</td><td>0.88133</td></tr><tr><td>val_loss</td><td>0.48173</td></tr></table><br/></div></div>"
      ],
      "text/plain": [
       "<IPython.core.display.HTML object>"
      ]
     },
     "metadata": {},
     "output_type": "display_data"
    },
    {
     "data": {
      "text/html": [
       " View run <strong style=\"color:#cdcd00\">elated-sweep-6</strong> at: <a href='https://wandb.ai/pragalbh/DL-Assign1/runs/ei3uox3c' target=\"_blank\">https://wandb.ai/pragalbh/DL-Assign1/runs/ei3uox3c</a><br/>Synced 6 W&B file(s), 0 media file(s), 0 artifact file(s) and 0 other file(s)"
      ],
      "text/plain": [
       "<IPython.core.display.HTML object>"
      ]
     },
     "metadata": {},
     "output_type": "display_data"
    },
    {
     "data": {
      "text/html": [
       "Find logs at: <code>./wandb/run-20230319_043104-ei3uox3c/logs</code>"
      ],
      "text/plain": [
       "<IPython.core.display.HTML object>"
      ]
     },
     "metadata": {},
     "output_type": "display_data"
    },
    {
     "name": "stderr",
     "output_type": "stream",
     "text": [
      "\u001b[34m\u001b[1mwandb\u001b[0m: Agent Starting Run: gxii87ky with config:\n",
      "\u001b[34m\u001b[1mwandb\u001b[0m: \tbatch_size: 32\n",
      "\u001b[34m\u001b[1mwandb\u001b[0m: \tconst_hidden_layer_activation: relu\n",
      "\u001b[34m\u001b[1mwandb\u001b[0m: \tconst_hidden_layer_initializations: He\n",
      "\u001b[34m\u001b[1mwandb\u001b[0m: \tconst_hidden_layer_size: 64\n",
      "\u001b[34m\u001b[1mwandb\u001b[0m: \tepochs: 40\n",
      "\u001b[34m\u001b[1mwandb\u001b[0m: \tlamdba: 0.05\n",
      "\u001b[34m\u001b[1mwandb\u001b[0m: \tlearning_rate: 0.0001\n",
      "\u001b[34m\u001b[1mwandb\u001b[0m: \tnum_layers: 5\n",
      "\u001b[34m\u001b[1mwandb\u001b[0m: \toptimizer: adam\n"
     ]
    },
    {
     "data": {
      "text/html": [
       "Tracking run with wandb version 0.14.0"
      ],
      "text/plain": [
       "<IPython.core.display.HTML object>"
      ]
     },
     "metadata": {},
     "output_type": "display_data"
    },
    {
     "data": {
      "text/html": [
       "Run data is saved locally in <code>/home/pragalbh/wandb/run-20230319_043147-gxii87ky</code>"
      ],
      "text/plain": [
       "<IPython.core.display.HTML object>"
      ]
     },
     "metadata": {},
     "output_type": "display_data"
    },
    {
     "data": {
      "text/html": [
       "Syncing run <strong><a href='https://wandb.ai/pragalbh/DL-Assign1/runs/gxii87ky' target=\"_blank\">lucky-sweep-7</a></strong> to <a href='https://wandb.ai/pragalbh/DL-Assign1' target=\"_blank\">Weights & Biases</a> (<a href='https://wandb.me/run' target=\"_blank\">docs</a>)<br/>Sweep page: <a href='https://wandb.ai/pragalbh/DL-Assign1/sweeps/k8fb48i7' target=\"_blank\">https://wandb.ai/pragalbh/DL-Assign1/sweeps/k8fb48i7</a>"
      ],
      "text/plain": [
       "<IPython.core.display.HTML object>"
      ]
     },
     "metadata": {},
     "output_type": "display_data"
    },
    {
     "data": {
      "text/html": [
       " View project at <a href='https://wandb.ai/pragalbh/DL-Assign1' target=\"_blank\">https://wandb.ai/pragalbh/DL-Assign1</a>"
      ],
      "text/plain": [
       "<IPython.core.display.HTML object>"
      ]
     },
     "metadata": {},
     "output_type": "display_data"
    },
    {
     "data": {
      "text/html": [
       " View sweep at <a href='https://wandb.ai/pragalbh/DL-Assign1/sweeps/k8fb48i7' target=\"_blank\">https://wandb.ai/pragalbh/DL-Assign1/sweeps/k8fb48i7</a>"
      ],
      "text/plain": [
       "<IPython.core.display.HTML object>"
      ]
     },
     "metadata": {},
     "output_type": "display_data"
    },
    {
     "data": {
      "text/html": [
       " View run at <a href='https://wandb.ai/pragalbh/DL-Assign1/runs/gxii87ky' target=\"_blank\">https://wandb.ai/pragalbh/DL-Assign1/runs/gxii87ky</a>"
      ],
      "text/plain": [
       "<IPython.core.display.HTML object>"
      ]
     },
     "metadata": {},
     "output_type": "display_data"
    },
    {
     "name": "stderr",
     "output_type": "stream",
     "text": [
      "100%|███████████████████████████████████████████████████████████████████████████████████| 40/40 [01:15<00:00,  1.88s/it]\n"
     ]
    },
    {
     "data": {
      "image/png": "[encoded data removed]",
      "text/plain": [
       "<Figure size 640x480 with 1 Axes>"
      ]
     },
     "metadata": {},
     "output_type": "display_data"
    },
    {
     "name": "stdout",
     "output_type": "stream",
     "text": [
      "Run num_lay_5 hid_lay_size_64 activ_relu wt_init_He Opt_adamlrn_rate_0.0001\n"
     ]
    },
    {
     "data": {
      "text/html": [
       "Waiting for W&B process to finish... <strong style=\"color:green\">(success).</strong>"
      ],
      "text/plain": [
       "<IPython.core.display.HTML object>"
      ]
     },
     "metadata": {},
     "output_type": "display_data"
    },
    {
     "data": {
      "text/html": [
       "<style>\n",
       "    table.wandb td:nth-child(1) { padding: 0 10px; text-align: left ; width: auto;} td:nth-child(2) {text-align: left ; width: 100%}\n",
       "    .wandb-row { display: flex; flex-direction: row; flex-wrap: wrap; justify-content: flex-start; width: 100% }\n",
       "    .wandb-col { display: flex; flex-direction: column; flex-basis: 100%; flex: 1; padding: 10px; }\n",
       "    </style>\n",
       "<div class=\"wandb-row\"><div class=\"wandb-col\"><h3>Run history:</h3><br/><table class=\"wandb\"><tr><td>epoch</td><td>▁▁▁▂▂▂▂▂▂▃▃▃▃▃▄▄▄▄▄▄▅▅▅▅▅▅▆▆▆▆▆▇▇▇▇▇▇███</td></tr><tr><td>train_acc</td><td>▁▃▄▄▄▅▅▅▅▅▆▆▆▆▆▆▆▆▆▇▇▇▇▇▇▇▇▇▇▇▇█████████</td></tr><tr><td>train_loss</td><td>█▆▆▅▅▄▄▄▄▃▃▃▃▃▃▃▃▃▂▂▂▂▂▂▂▂▂▂▂▂▂▁▁▁▁▁▁▁▁▁</td></tr><tr><td>val_acc</td><td>▁▃▄▅▅▅▆▆▆▆▆▆▇▇▇▇▇▇▇▇▇▇▇▇▇███████████████</td></tr><tr><td>val_loss</td><td>█▆▅▅▄▄▄▃▃▃▃▃▃▂▂▂▂▂▂▂▂▂▂▂▂▂▂▁▁▁▁▁▁▁▁▁▁▁▁▁</td></tr></table><br/></div><div class=\"wandb-col\"><h3>Run summary:</h3><br/><table class=\"wandb\"><tr><td>epoch</td><td>39</td></tr><tr><td>train_acc</td><td>0.89328</td></tr><tr><td>train_loss</td><td>0.43132</td></tr><tr><td>val_acc</td><td>0.87333</td></tr><tr><td>val_loss</td><td>0.49928</td></tr></table><br/></div></div>"
      ],
      "text/plain": [
       "<IPython.core.display.HTML object>"
      ]
     },
     "metadata": {},
     "output_type": "display_data"
    },
    {
     "data": {
      "text/html": [
       " View run <strong style=\"color:#cdcd00\">lucky-sweep-7</strong> at: <a href='https://wandb.ai/pragalbh/DL-Assign1/runs/gxii87ky' target=\"_blank\">https://wandb.ai/pragalbh/DL-Assign1/runs/gxii87ky</a><br/>Synced 6 W&B file(s), 0 media file(s), 0 artifact file(s) and 0 other file(s)"
      ],
      "text/plain": [
       "<IPython.core.display.HTML object>"
      ]
     },
     "metadata": {},
     "output_type": "display_data"
    },
    {
     "data": {
      "text/html": [
       "Find logs at: <code>./wandb/run-20230319_043147-gxii87ky/logs</code>"
      ],
      "text/plain": [
       "<IPython.core.display.HTML object>"
      ]
     },
     "metadata": {},
     "output_type": "display_data"
    },
    {
     "name": "stderr",
     "output_type": "stream",
     "text": [
      "\u001b[34m\u001b[1mwandb\u001b[0m: Agent Starting Run: 8d14xsle with config:\n",
      "\u001b[34m\u001b[1mwandb\u001b[0m: \tbatch_size: 32\n",
      "\u001b[34m\u001b[1mwandb\u001b[0m: \tconst_hidden_layer_activation: relu\n",
      "\u001b[34m\u001b[1mwandb\u001b[0m: \tconst_hidden_layer_initializations: He\n",
      "\u001b[34m\u001b[1mwandb\u001b[0m: \tconst_hidden_layer_size: 64\n",
      "\u001b[34m\u001b[1mwandb\u001b[0m: \tepochs: 40\n",
      "\u001b[34m\u001b[1mwandb\u001b[0m: \tlamdba: 0.05\n",
      "\u001b[34m\u001b[1mwandb\u001b[0m: \tlearning_rate: 0.0001\n",
      "\u001b[34m\u001b[1mwandb\u001b[0m: \tnum_layers: 5\n",
      "\u001b[34m\u001b[1mwandb\u001b[0m: \toptimizer: rmsprop\n"
     ]
    },
    {
     "data": {
      "text/html": [
       "Tracking run with wandb version 0.14.0"
      ],
      "text/plain": [
       "<IPython.core.display.HTML object>"
      ]
     },
     "metadata": {},
     "output_type": "display_data"
    },
    {
     "data": {
      "text/html": [
       "Run data is saved locally in <code>/home/pragalbh/wandb/run-20230319_043316-8d14xsle</code>"
      ],
      "text/plain": [
       "<IPython.core.display.HTML object>"
      ]
     },
     "metadata": {},
     "output_type": "display_data"
    },
    {
     "data": {
      "text/html": [
       "Syncing run <strong><a href='https://wandb.ai/pragalbh/DL-Assign1/runs/8d14xsle' target=\"_blank\">glad-sweep-8</a></strong> to <a href='https://wandb.ai/pragalbh/DL-Assign1' target=\"_blank\">Weights & Biases</a> (<a href='https://wandb.me/run' target=\"_blank\">docs</a>)<br/>Sweep page: <a href='https://wandb.ai/pragalbh/DL-Assign1/sweeps/k8fb48i7' target=\"_blank\">https://wandb.ai/pragalbh/DL-Assign1/sweeps/k8fb48i7</a>"
      ],
      "text/plain": [
       "<IPython.core.display.HTML object>"
      ]
     },
     "metadata": {},
     "output_type": "display_data"
    },
    {
     "data": {
      "text/html": [
       " View project at <a href='https://wandb.ai/pragalbh/DL-Assign1' target=\"_blank\">https://wandb.ai/pragalbh/DL-Assign1</a>"
      ],
      "text/plain": [
       "<IPython.core.display.HTML object>"
      ]
     },
     "metadata": {},
     "output_type": "display_data"
    },
    {
     "data": {
      "text/html": [
       " View sweep at <a href='https://wandb.ai/pragalbh/DL-Assign1/sweeps/k8fb48i7' target=\"_blank\">https://wandb.ai/pragalbh/DL-Assign1/sweeps/k8fb48i7</a>"
      ],
      "text/plain": [
       "<IPython.core.display.HTML object>"
      ]
     },
     "metadata": {},
     "output_type": "display_data"
    },
    {
     "data": {
      "text/html": [
       " View run at <a href='https://wandb.ai/pragalbh/DL-Assign1/runs/8d14xsle' target=\"_blank\">https://wandb.ai/pragalbh/DL-Assign1/runs/8d14xsle</a>"
      ],
      "text/plain": [
       "<IPython.core.display.HTML object>"
      ]
     },
     "metadata": {},
     "output_type": "display_data"
    },
    {
     "name": "stderr",
     "output_type": "stream",
     "text": [
      " 55%|█████████████████████████████████████████████▋                                     | 22/40 [00:33<00:28,  1.57s/it]"
     ]
    },
    {
     "name": "stdout",
     "output_type": "stream",
     "text": [
      "Early stopping at epoch:  22 reverting to epoch  17\n"
     ]
    },
    {
     "name": "stderr",
     "output_type": "stream",
     "text": [
      " 55%|█████████████████████████████████████████████▋                                     | 22/40 [00:35<00:28,  1.61s/it]\n"
     ]
    },
    {
     "data": {
      "image/png": "[encoded data removed]",
      "text/plain": [
       "<Figure size 640x480 with 1 Axes>"
      ]
     },
     "metadata": {},
     "output_type": "display_data"
    },
    {
     "name": "stdout",
     "output_type": "stream",
     "text": [
      "Run num_lay_5 hid_lay_size_64 activ_relu wt_init_He Opt_rmsproplrn_rate_0.0001\n"
     ]
    },
    {
     "data": {
      "text/html": [
       "Waiting for W&B process to finish... <strong style=\"color:green\">(success).</strong>"
      ],
      "text/plain": [
       "<IPython.core.display.HTML object>"
      ]
     },
     "metadata": {},
     "output_type": "display_data"
    },
    {
     "data": {
      "text/html": [
       "<style>\n",
       "    table.wandb td:nth-child(1) { padding: 0 10px; text-align: left ; width: auto;} td:nth-child(2) {text-align: left ; width: 100%}\n",
       "    .wandb-row { display: flex; flex-direction: row; flex-wrap: wrap; justify-content: flex-start; width: 100% }\n",
       "    .wandb-col { display: flex; flex-direction: column; flex-basis: 100%; flex: 1; padding: 10px; }\n",
       "    </style>\n",
       "<div class=\"wandb-row\"><div class=\"wandb-col\"><h3>Run history:</h3><br/><table class=\"wandb\"><tr><td>epoch</td><td>▁▁▂▂▂▃▃▃▃▄▄▄▅▅▅▆▆▆██</td></tr><tr><td>train_acc</td><td>▁▃▄▅▅▆▆▆▆▆▇▇▇▇▇▇▇███</td></tr><tr><td>train_loss</td><td>█▆▅▄▄▃▃▃▃▂▂▂▂▂▂▂▂▁▁▁</td></tr><tr><td>val_acc</td><td>▁▄▅▅▆▆▇▇▇▇▇▇▇▇██████</td></tr><tr><td>val_loss</td><td>█▅▄▃▃▂▂▂▂▁▁▁▁▁▁▁▁▁▁▁</td></tr></table><br/></div><div class=\"wandb-col\"><h3>Run summary:</h3><br/><table class=\"wandb\"><tr><td>epoch</td><td>23</td></tr><tr><td>train_acc</td><td>0.903</td></tr><tr><td>train_loss</td><td>0.39004</td></tr><tr><td>val_acc</td><td>0.8825</td></tr><tr><td>val_loss</td><td>0.49012</td></tr></table><br/></div></div>"
      ],
      "text/plain": [
       "<IPython.core.display.HTML object>"
      ]
     },
     "metadata": {},
     "output_type": "display_data"
    },
    {
     "data": {
      "text/html": [
       " View run <strong style=\"color:#cdcd00\">glad-sweep-8</strong> at: <a href='https://wandb.ai/pragalbh/DL-Assign1/runs/8d14xsle' target=\"_blank\">https://wandb.ai/pragalbh/DL-Assign1/runs/8d14xsle</a><br/>Synced 6 W&B file(s), 0 media file(s), 0 artifact file(s) and 0 other file(s)"
      ],
      "text/plain": [
       "<IPython.core.display.HTML object>"
      ]
     },
     "metadata": {},
     "output_type": "display_data"
    },
    {
     "data": {
      "text/html": [
       "Find logs at: <code>./wandb/run-20230319_043316-8d14xsle/logs</code>"
      ],
      "text/plain": [
       "<IPython.core.display.HTML object>"
      ]
     },
     "metadata": {},
     "output_type": "display_data"
    },
    {
     "name": "stderr",
     "output_type": "stream",
     "text": [
      "\u001b[34m\u001b[1mwandb\u001b[0m: Agent Starting Run: 7tjj3smg with config:\n",
      "\u001b[34m\u001b[1mwandb\u001b[0m: \tbatch_size: 64\n",
      "\u001b[34m\u001b[1mwandb\u001b[0m: \tconst_hidden_layer_activation: relu\n",
      "\u001b[34m\u001b[1mwandb\u001b[0m: \tconst_hidden_layer_initializations: He\n",
      "\u001b[34m\u001b[1mwandb\u001b[0m: \tconst_hidden_layer_size: 128\n",
      "\u001b[34m\u001b[1mwandb\u001b[0m: \tepochs: 40\n",
      "\u001b[34m\u001b[1mwandb\u001b[0m: \tlamdba: 0\n",
      "\u001b[34m\u001b[1mwandb\u001b[0m: \tlearning_rate: 0.001\n",
      "\u001b[34m\u001b[1mwandb\u001b[0m: \tnum_layers: 5\n",
      "\u001b[34m\u001b[1mwandb\u001b[0m: \toptimizer: adam\n"
     ]
    },
    {
     "data": {
      "text/html": [
       "Tracking run with wandb version 0.14.0"
      ],
      "text/plain": [
       "<IPython.core.display.HTML object>"
      ]
     },
     "metadata": {},
     "output_type": "display_data"
    },
    {
     "data": {
      "text/html": [
       "Run data is saved locally in <code>/home/pragalbh/wandb/run-20230319_043405-7tjj3smg</code>"
      ],
      "text/plain": [
       "<IPython.core.display.HTML object>"
      ]
     },
     "metadata": {},
     "output_type": "display_data"
    },
    {
     "data": {
      "text/html": [
       "Syncing run <strong><a href='https://wandb.ai/pragalbh/DL-Assign1/runs/7tjj3smg' target=\"_blank\">quiet-sweep-9</a></strong> to <a href='https://wandb.ai/pragalbh/DL-Assign1' target=\"_blank\">Weights & Biases</a> (<a href='https://wandb.me/run' target=\"_blank\">docs</a>)<br/>Sweep page: <a href='https://wandb.ai/pragalbh/DL-Assign1/sweeps/k8fb48i7' target=\"_blank\">https://wandb.ai/pragalbh/DL-Assign1/sweeps/k8fb48i7</a>"
      ],
      "text/plain": [
       "<IPython.core.display.HTML object>"
      ]
     },
     "metadata": {},
     "output_type": "display_data"
    },
    {
     "data": {
      "text/html": [
       " View project at <a href='https://wandb.ai/pragalbh/DL-Assign1' target=\"_blank\">https://wandb.ai/pragalbh/DL-Assign1</a>"
      ],
      "text/plain": [
       "<IPython.core.display.HTML object>"
      ]
     },
     "metadata": {},
     "output_type": "display_data"
    },
    {
     "data": {
      "text/html": [
       " View sweep at <a href='https://wandb.ai/pragalbh/DL-Assign1/sweeps/k8fb48i7' target=\"_blank\">https://wandb.ai/pragalbh/DL-Assign1/sweeps/k8fb48i7</a>"
      ],
      "text/plain": [
       "<IPython.core.display.HTML object>"
      ]
     },
     "metadata": {},
     "output_type": "display_data"
    },
    {
     "data": {
      "text/html": [
       " View run at <a href='https://wandb.ai/pragalbh/DL-Assign1/runs/7tjj3smg' target=\"_blank\">https://wandb.ai/pragalbh/DL-Assign1/runs/7tjj3smg</a>"
      ],
      "text/plain": [
       "<IPython.core.display.HTML object>"
      ]
     },
     "metadata": {},
     "output_type": "display_data"
    },
    {
     "name": "stderr",
     "output_type": "stream",
     "text": [
      " 30%|████████████████████████▉                                                          | 12/40 [00:25<01:04,  2.30s/it]"
     ]
    },
    {
     "name": "stdout",
     "output_type": "stream",
     "text": [
      "Early stopping at epoch:  12 reverting to epoch  7\n"
     ]
    },
    {
     "name": "stderr",
     "output_type": "stream",
     "text": [
      " 30%|████████████████████████▉                                                          | 12/40 [00:28<01:06,  2.39s/it]\n"
     ]
    },
    {
     "data": {
      "image/png": "[encoded data removed]",
      "text/plain": [
       "<Figure size 640x480 with 1 Axes>"
      ]
     },
     "metadata": {},
     "output_type": "display_data"
    },
    {
     "name": "stdout",
     "output_type": "stream",
     "text": [
      "Run num_lay_5 hid_lay_size_128 activ_relu wt_init_He Opt_adamlrn_rate_0.001\n"
     ]
    },
    {
     "data": {
      "text/html": [
       "Waiting for W&B process to finish... <strong style=\"color:green\">(success).</strong>"
      ],
      "text/plain": [
       "<IPython.core.display.HTML object>"
      ]
     },
     "metadata": {},
     "output_type": "display_data"
    },
    {
     "data": {
      "text/html": [
       "<style>\n",
       "    table.wandb td:nth-child(1) { padding: 0 10px; text-align: left ; width: auto;} td:nth-child(2) {text-align: left ; width: 100%}\n",
       "    .wandb-row { display: flex; flex-direction: row; flex-wrap: wrap; justify-content: flex-start; width: 100% }\n",
       "    .wandb-col { display: flex; flex-direction: column; flex-basis: 100%; flex: 1; padding: 10px; }\n",
       "    </style>\n",
       "<div class=\"wandb-row\"><div class=\"wandb-col\"><h3>Run history:</h3><br/><table class=\"wandb\"><tr><td>epoch</td><td>▁▂▂▃▃▄▄▅▇█</td></tr><tr><td>train_acc</td><td>▁▃▃▄▅▆▆▇█▇</td></tr><tr><td>train_loss</td><td>█▆▅▄▄▃▃▂▁▂</td></tr><tr><td>val_acc</td><td>▁▄▆▆▇▇▇███</td></tr><tr><td>val_loss</td><td>█▅▄▃▂▁▁▁▂▁</td></tr></table><br/></div><div class=\"wandb-col\"><h3>Run summary:</h3><br/><table class=\"wandb\"><tr><td>epoch</td><td>13</td></tr><tr><td>train_acc</td><td>0.91041</td></tr><tr><td>train_loss</td><td>0.34724</td></tr><tr><td>val_acc</td><td>0.88617</td></tr><tr><td>val_loss</td><td>0.45117</td></tr></table><br/></div></div>"
      ],
      "text/plain": [
       "<IPython.core.display.HTML object>"
      ]
     },
     "metadata": {},
     "output_type": "display_data"
    },
    {
     "data": {
      "text/html": [
       " View run <strong style=\"color:#cdcd00\">quiet-sweep-9</strong> at: <a href='https://wandb.ai/pragalbh/DL-Assign1/runs/7tjj3smg' target=\"_blank\">https://wandb.ai/pragalbh/DL-Assign1/runs/7tjj3smg</a><br/>Synced 6 W&B file(s), 0 media file(s), 0 artifact file(s) and 0 other file(s)"
      ],
      "text/plain": [
       "<IPython.core.display.HTML object>"
      ]
     },
     "metadata": {},
     "output_type": "display_data"
    },
    {
     "data": {
      "text/html": [
       "Find logs at: <code>./wandb/run-20230319_043405-7tjj3smg/logs</code>"
      ],
      "text/plain": [
       "<IPython.core.display.HTML object>"
      ]
     },
     "metadata": {},
     "output_type": "display_data"
    },
    {
     "name": "stderr",
     "output_type": "stream",
     "text": [
      "\u001b[34m\u001b[1mwandb\u001b[0m: Agent Starting Run: vigqmh8m with config:\n",
      "\u001b[34m\u001b[1mwandb\u001b[0m: \tbatch_size: 32\n",
      "\u001b[34m\u001b[1mwandb\u001b[0m: \tconst_hidden_layer_activation: relu\n",
      "\u001b[34m\u001b[1mwandb\u001b[0m: \tconst_hidden_layer_initializations: He\n",
      "\u001b[34m\u001b[1mwandb\u001b[0m: \tconst_hidden_layer_size: 128\n",
      "\u001b[34m\u001b[1mwandb\u001b[0m: \tepochs: 40\n",
      "\u001b[34m\u001b[1mwandb\u001b[0m: \tlamdba: 0.05\n",
      "\u001b[34m\u001b[1mwandb\u001b[0m: \tlearning_rate: 0.001\n",
      "\u001b[34m\u001b[1mwandb\u001b[0m: \tnum_layers: 3\n",
      "\u001b[34m\u001b[1mwandb\u001b[0m: \toptimizer: adam\n"
     ]
    },
    {
     "data": {
      "text/html": [
       "Tracking run with wandb version 0.14.0"
      ],
      "text/plain": [
       "<IPython.core.display.HTML object>"
      ]
     },
     "metadata": {},
     "output_type": "display_data"
    },
    {
     "data": {
      "text/html": [
       "Run data is saved locally in <code>/home/pragalbh/wandb/run-20230319_043446-vigqmh8m</code>"
      ],
      "text/plain": [
       "<IPython.core.display.HTML object>"
      ]
     },
     "metadata": {},
     "output_type": "display_data"
    },
    {
     "data": {
      "text/html": [
       "Syncing run <strong><a href='https://wandb.ai/pragalbh/DL-Assign1/runs/vigqmh8m' target=\"_blank\">sleek-sweep-10</a></strong> to <a href='https://wandb.ai/pragalbh/DL-Assign1' target=\"_blank\">Weights & Biases</a> (<a href='https://wandb.me/run' target=\"_blank\">docs</a>)<br/>Sweep page: <a href='https://wandb.ai/pragalbh/DL-Assign1/sweeps/k8fb48i7' target=\"_blank\">https://wandb.ai/pragalbh/DL-Assign1/sweeps/k8fb48i7</a>"
      ],
      "text/plain": [
       "<IPython.core.display.HTML object>"
      ]
     },
     "metadata": {},
     "output_type": "display_data"
    },
    {
     "data": {
      "text/html": [
       " View project at <a href='https://wandb.ai/pragalbh/DL-Assign1' target=\"_blank\">https://wandb.ai/pragalbh/DL-Assign1</a>"
      ],
      "text/plain": [
       "<IPython.core.display.HTML object>"
      ]
     },
     "metadata": {},
     "output_type": "display_data"
    },
    {
     "data": {
      "text/html": [
       " View sweep at <a href='https://wandb.ai/pragalbh/DL-Assign1/sweeps/k8fb48i7' target=\"_blank\">https://wandb.ai/pragalbh/DL-Assign1/sweeps/k8fb48i7</a>"
      ],
      "text/plain": [
       "<IPython.core.display.HTML object>"
      ]
     },
     "metadata": {},
     "output_type": "display_data"
    },
    {
     "data": {
      "text/html": [
       " View run at <a href='https://wandb.ai/pragalbh/DL-Assign1/runs/vigqmh8m' target=\"_blank\">https://wandb.ai/pragalbh/DL-Assign1/runs/vigqmh8m</a>"
      ],
      "text/plain": [
       "<IPython.core.display.HTML object>"
      ]
     },
     "metadata": {},
     "output_type": "display_data"
    },
    {
     "name": "stderr",
     "output_type": "stream",
     "text": [
      " 40%|█████████████████████████████████▏                                                 | 16/40 [00:51<01:51,  4.66s/it]"
     ]
    },
    {
     "name": "stdout",
     "output_type": "stream",
     "text": [
      "Early stopping at epoch:  16 reverting to epoch  11\n"
     ]
    },
    {
     "name": "stderr",
     "output_type": "stream",
     "text": [
      " 40%|█████████████████████████████████▏                                                 | 16/40 [00:58<01:27,  3.64s/it]\n"
     ]
    },
    {
     "data": {
      "image/png": "[encoded data removed]",
      "text/plain": [
       "<Figure size 640x480 with 1 Axes>"
      ]
     },
     "metadata": {},
     "output_type": "display_data"
    },
    {
     "name": "stdout",
     "output_type": "stream",
     "text": [
      "Run num_lay_3 hid_lay_size_128 activ_relu wt_init_He Opt_adamlrn_rate_0.001\n"
     ]
    },
    {
     "data": {
      "text/html": [
       "Waiting for W&B process to finish... <strong style=\"color:green\">(success).</strong>"
      ],
      "text/plain": [
       "<IPython.core.display.HTML object>"
      ]
     },
     "metadata": {},
     "output_type": "display_data"
    },
    {
     "data": {
      "text/html": [
       "<style>\n",
       "    table.wandb td:nth-child(1) { padding: 0 10px; text-align: left ; width: auto;} td:nth-child(2) {text-align: left ; width: 100%}\n",
       "    .wandb-row { display: flex; flex-direction: row; flex-wrap: wrap; justify-content: flex-start; width: 100% }\n",
       "    .wandb-col { display: flex; flex-direction: column; flex-basis: 100%; flex: 1; padding: 10px; }\n",
       "    </style>\n",
       "<div class=\"wandb-row\"><div class=\"wandb-col\"><h3>Run history:</h3><br/><table class=\"wandb\"><tr><td>epoch</td><td>▁▁▂▂▃▃▃▄▄▅▅▆██</td></tr><tr><td>train_acc</td><td>▁▃▄▅▅▅▆▆▆▇▇▇█▇</td></tr><tr><td>train_loss</td><td>█▆▅▄▄▃▃▃▂▂▂▂▁▂</td></tr><tr><td>val_acc</td><td>▁▄▅▆▇▇▇█████▇█</td></tr><tr><td>val_loss</td><td>█▅▃▃▂▂▂▁▁▁▁▁▂▁</td></tr></table><br/></div><div class=\"wandb-col\"><h3>Run summary:</h3><br/><table class=\"wandb\"><tr><td>epoch</td><td>17</td></tr><tr><td>train_acc</td><td>0.92113</td></tr><tr><td>train_loss</td><td>0.31051</td></tr><tr><td>val_acc</td><td>0.89017</td></tr><tr><td>val_loss</td><td>0.43137</td></tr></table><br/></div></div>"
      ],
      "text/plain": [
       "<IPython.core.display.HTML object>"
      ]
     },
     "metadata": {},
     "output_type": "display_data"
    },
    {
     "data": {
      "text/html": [
       " View run <strong style=\"color:#cdcd00\">sleek-sweep-10</strong> at: <a href='https://wandb.ai/pragalbh/DL-Assign1/runs/vigqmh8m' target=\"_blank\">https://wandb.ai/pragalbh/DL-Assign1/runs/vigqmh8m</a><br/>Synced 6 W&B file(s), 0 media file(s), 0 artifact file(s) and 0 other file(s)"
      ],
      "text/plain": [
       "<IPython.core.display.HTML object>"
      ]
     },
     "metadata": {},
     "output_type": "display_data"
    },
    {
     "data": {
      "text/html": [
       "Find logs at: <code>./wandb/run-20230319_043446-vigqmh8m/logs</code>"
      ],
      "text/plain": [
       "<IPython.core.display.HTML object>"
      ]
     },
     "metadata": {},
     "output_type": "display_data"
    },
    {
     "name": "stderr",
     "output_type": "stream",
     "text": [
      "\u001b[34m\u001b[1mwandb\u001b[0m: Agent Starting Run: 9be069af with config:\n",
      "\u001b[34m\u001b[1mwandb\u001b[0m: \tbatch_size: 32\n",
      "\u001b[34m\u001b[1mwandb\u001b[0m: \tconst_hidden_layer_activation: relu\n",
      "\u001b[34m\u001b[1mwandb\u001b[0m: \tconst_hidden_layer_initializations: He\n",
      "\u001b[34m\u001b[1mwandb\u001b[0m: \tconst_hidden_layer_size: 128\n",
      "\u001b[34m\u001b[1mwandb\u001b[0m: \tepochs: 40\n",
      "\u001b[34m\u001b[1mwandb\u001b[0m: \tlamdba: 0\n",
      "\u001b[34m\u001b[1mwandb\u001b[0m: \tlearning_rate: 0.0001\n",
      "\u001b[34m\u001b[1mwandb\u001b[0m: \tnum_layers: 5\n",
      "\u001b[34m\u001b[1mwandb\u001b[0m: \toptimizer: rmsprop\n"
     ]
    },
    {
     "data": {
      "text/html": [
       "Tracking run with wandb version 0.14.0"
      ],
      "text/plain": [
       "<IPython.core.display.HTML object>"
      ]
     },
     "metadata": {},
     "output_type": "display_data"
    },
    {
     "data": {
      "text/html": [
       "Run data is saved locally in <code>/home/pragalbh/wandb/run-20230319_043601-9be069af</code>"
      ],
      "text/plain": [
       "<IPython.core.display.HTML object>"
      ]
     },
     "metadata": {},
     "output_type": "display_data"
    },
    {
     "data": {
      "text/html": [
       "Syncing run <strong><a href='https://wandb.ai/pragalbh/DL-Assign1/runs/9be069af' target=\"_blank\">balmy-sweep-11</a></strong> to <a href='https://wandb.ai/pragalbh/DL-Assign1' target=\"_blank\">Weights & Biases</a> (<a href='https://wandb.me/run' target=\"_blank\">docs</a>)<br/>Sweep page: <a href='https://wandb.ai/pragalbh/DL-Assign1/sweeps/k8fb48i7' target=\"_blank\">https://wandb.ai/pragalbh/DL-Assign1/sweeps/k8fb48i7</a>"
      ],
      "text/plain": [
       "<IPython.core.display.HTML object>"
      ]
     },
     "metadata": {},
     "output_type": "display_data"
    },
    {
     "data": {
      "text/html": [
       " View project at <a href='https://wandb.ai/pragalbh/DL-Assign1' target=\"_blank\">https://wandb.ai/pragalbh/DL-Assign1</a>"
      ],
      "text/plain": [
       "<IPython.core.display.HTML object>"
      ]
     },
     "metadata": {},
     "output_type": "display_data"
    },
    {
     "data": {
      "text/html": [
       " View sweep at <a href='https://wandb.ai/pragalbh/DL-Assign1/sweeps/k8fb48i7' target=\"_blank\">https://wandb.ai/pragalbh/DL-Assign1/sweeps/k8fb48i7</a>"
      ],
      "text/plain": [
       "<IPython.core.display.HTML object>"
      ]
     },
     "metadata": {},
     "output_type": "display_data"
    },
    {
     "data": {
      "text/html": [
       " View run at <a href='https://wandb.ai/pragalbh/DL-Assign1/runs/9be069af' target=\"_blank\">https://wandb.ai/pragalbh/DL-Assign1/runs/9be069af</a>"
      ],
      "text/plain": [
       "<IPython.core.display.HTML object>"
      ]
     },
     "metadata": {},
     "output_type": "display_data"
    },
    {
     "name": "stderr",
     "output_type": "stream",
     "text": [
      " 42%|███████████████████████████████████▎                                               | 17/40 [00:44<01:01,  2.65s/it]"
     ]
    },
    {
     "name": "stdout",
     "output_type": "stream",
     "text": [
      "Early stopping at epoch:  17 reverting to epoch  12\n"
     ]
    },
    {
     "name": "stderr",
     "output_type": "stream",
     "text": [
      " 42%|███████████████████████████████████▎                                               | 17/40 [00:47<01:04,  2.82s/it]\n"
     ]
    },
    {
     "data": {
      "image/png": "[encoded data removed]",
      "text/plain": [
       "<Figure size 640x480 with 1 Axes>"
      ]
     },
     "metadata": {},
     "output_type": "display_data"
    },
    {
     "name": "stdout",
     "output_type": "stream",
     "text": [
      "Run num_lay_5 hid_lay_size_128 activ_relu wt_init_He Opt_rmsproplrn_rate_0.0001\n"
     ]
    },
    {
     "data": {
      "text/html": [
       "Waiting for W&B process to finish... <strong style=\"color:green\">(success).</strong>"
      ],
      "text/plain": [
       "<IPython.core.display.HTML object>"
      ]
     },
     "metadata": {},
     "output_type": "display_data"
    },
    {
     "data": {
      "text/html": [
       "<style>\n",
       "    table.wandb td:nth-child(1) { padding: 0 10px; text-align: left ; width: auto;} td:nth-child(2) {text-align: left ; width: 100%}\n",
       "    .wandb-row { display: flex; flex-direction: row; flex-wrap: wrap; justify-content: flex-start; width: 100% }\n",
       "    .wandb-col { display: flex; flex-direction: column; flex-basis: 100%; flex: 1; padding: 10px; }\n",
       "    </style>\n",
       "<div class=\"wandb-row\"><div class=\"wandb-col\"><h3>Run history:</h3><br/><table class=\"wandb\"><tr><td>epoch</td><td>▁▁▂▂▃▃▃▄▄▆██</td></tr><tr><td>train_acc</td><td>▁▃▄▄▅▅▆▆▆▇█▇</td></tr><tr><td>train_loss</td><td>█▆▅▄▄▃▃▃▃▂▁▂</td></tr><tr><td>val_acc</td><td>▁▃▄▅▆▆▆▇▇▇█▇</td></tr><tr><td>val_loss</td><td>█▅▄▃▂▂▁▁▁▁▂▁</td></tr></table><br/></div><div class=\"wandb-col\"><h3>Run summary:</h3><br/><table class=\"wandb\"><tr><td>epoch</td><td>18</td></tr><tr><td>train_acc</td><td>0.91341</td></tr><tr><td>train_loss</td><td>0.34278</td></tr><tr><td>val_acc</td><td>0.88483</td></tr><tr><td>val_loss</td><td>0.47833</td></tr></table><br/></div></div>"
      ],
      "text/plain": [
       "<IPython.core.display.HTML object>"
      ]
     },
     "metadata": {},
     "output_type": "display_data"
    },
    {
     "data": {
      "text/html": [
       " View run <strong style=\"color:#cdcd00\">balmy-sweep-11</strong> at: <a href='https://wandb.ai/pragalbh/DL-Assign1/runs/9be069af' target=\"_blank\">https://wandb.ai/pragalbh/DL-Assign1/runs/9be069af</a><br/>Synced 6 W&B file(s), 0 media file(s), 0 artifact file(s) and 0 other file(s)"
      ],
      "text/plain": [
       "<IPython.core.display.HTML object>"
      ]
     },
     "metadata": {},
     "output_type": "display_data"
    },
    {
     "data": {
      "text/html": [
       "Find logs at: <code>./wandb/run-20230319_043601-9be069af/logs</code>"
      ],
      "text/plain": [
       "<IPython.core.display.HTML object>"
      ]
     },
     "metadata": {},
     "output_type": "display_data"
    },
    {
     "name": "stderr",
     "output_type": "stream",
     "text": [
      "\u001b[34m\u001b[1mwandb\u001b[0m: Agent Starting Run: 5h78fbnl with config:\n",
      "\u001b[34m\u001b[1mwandb\u001b[0m: \tbatch_size: 64\n",
      "\u001b[34m\u001b[1mwandb\u001b[0m: \tconst_hidden_layer_activation: relu\n",
      "\u001b[34m\u001b[1mwandb\u001b[0m: \tconst_hidden_layer_initializations: He\n",
      "\u001b[34m\u001b[1mwandb\u001b[0m: \tconst_hidden_layer_size: 64\n",
      "\u001b[34m\u001b[1mwandb\u001b[0m: \tepochs: 40\n",
      "\u001b[34m\u001b[1mwandb\u001b[0m: \tlamdba: 0\n",
      "\u001b[34m\u001b[1mwandb\u001b[0m: \tlearning_rate: 0.001\n",
      "\u001b[34m\u001b[1mwandb\u001b[0m: \tnum_layers: 5\n",
      "\u001b[34m\u001b[1mwandb\u001b[0m: \toptimizer: adam\n"
     ]
    },
    {
     "data": {
      "text/html": [
       "Tracking run with wandb version 0.14.0"
      ],
      "text/plain": [
       "<IPython.core.display.HTML object>"
      ]
     },
     "metadata": {},
     "output_type": "display_data"
    },
    {
     "data": {
      "text/html": [
       "Run data is saved locally in <code>/home/pragalbh/wandb/run-20230319_043705-5h78fbnl</code>"
      ],
      "text/plain": [
       "<IPython.core.display.HTML object>"
      ]
     },
     "metadata": {},
     "output_type": "display_data"
    },
    {
     "data": {
      "text/html": [
       "Syncing run <strong><a href='https://wandb.ai/pragalbh/DL-Assign1/runs/5h78fbnl' target=\"_blank\">bright-sweep-12</a></strong> to <a href='https://wandb.ai/pragalbh/DL-Assign1' target=\"_blank\">Weights & Biases</a> (<a href='https://wandb.me/run' target=\"_blank\">docs</a>)<br/>Sweep page: <a href='https://wandb.ai/pragalbh/DL-Assign1/sweeps/k8fb48i7' target=\"_blank\">https://wandb.ai/pragalbh/DL-Assign1/sweeps/k8fb48i7</a>"
      ],
      "text/plain": [
       "<IPython.core.display.HTML object>"
      ]
     },
     "metadata": {},
     "output_type": "display_data"
    },
    {
     "data": {
      "text/html": [
       " View project at <a href='https://wandb.ai/pragalbh/DL-Assign1' target=\"_blank\">https://wandb.ai/pragalbh/DL-Assign1</a>"
      ],
      "text/plain": [
       "<IPython.core.display.HTML object>"
      ]
     },
     "metadata": {},
     "output_type": "display_data"
    },
    {
     "data": {
      "text/html": [
       " View sweep at <a href='https://wandb.ai/pragalbh/DL-Assign1/sweeps/k8fb48i7' target=\"_blank\">https://wandb.ai/pragalbh/DL-Assign1/sweeps/k8fb48i7</a>"
      ],
      "text/plain": [
       "<IPython.core.display.HTML object>"
      ]
     },
     "metadata": {},
     "output_type": "display_data"
    },
    {
     "data": {
      "text/html": [
       " View run at <a href='https://wandb.ai/pragalbh/DL-Assign1/runs/5h78fbnl' target=\"_blank\">https://wandb.ai/pragalbh/DL-Assign1/runs/5h78fbnl</a>"
      ],
      "text/plain": [
       "<IPython.core.display.HTML object>"
      ]
     },
     "metadata": {},
     "output_type": "display_data"
    },
    {
     "name": "stderr",
     "output_type": "stream",
     "text": [
      " 52%|███████████████████████████████████████████▌                                       | 21/40 [00:25<00:24,  1.29s/it]"
     ]
    },
    {
     "name": "stdout",
     "output_type": "stream",
     "text": [
      "Early stopping at epoch:  21 reverting to epoch  16\n"
     ]
    },
    {
     "name": "stderr",
     "output_type": "stream",
     "text": [
      " 52%|███████████████████████████████████████████▌                                       | 21/40 [00:27<00:24,  1.30s/it]\n"
     ]
    },
    {
     "data": {
      "image/png": "[encoded data removed]",
      "text/plain": [
       "<Figure size 640x480 with 1 Axes>"
      ]
     },
     "metadata": {},
     "output_type": "display_data"
    },
    {
     "name": "stdout",
     "output_type": "stream",
     "text": [
      "Run num_lay_5 hid_lay_size_64 activ_relu wt_init_He Opt_adamlrn_rate_0.001\n"
     ]
    },
    {
     "data": {
      "text/html": [
       "Waiting for W&B process to finish... <strong style=\"color:green\">(success).</strong>"
      ],
      "text/plain": [
       "<IPython.core.display.HTML object>"
      ]
     },
     "metadata": {},
     "output_type": "display_data"
    },
    {
     "data": {
      "text/html": [
       "<style>\n",
       "    table.wandb td:nth-child(1) { padding: 0 10px; text-align: left ; width: auto;} td:nth-child(2) {text-align: left ; width: 100%}\n",
       "    .wandb-row { display: flex; flex-direction: row; flex-wrap: wrap; justify-content: flex-start; width: 100% }\n",
       "    .wandb-col { display: flex; flex-direction: column; flex-basis: 100%; flex: 1; padding: 10px; }\n",
       "    </style>\n",
       "<div class=\"wandb-row\"><div class=\"wandb-col\"><h3>Run history:</h3><br/><table class=\"wandb\"><tr><td>epoch</td><td>▁▁▂▂▂▃▃▃▄▄▄▅▅▅▆▆██</td></tr><tr><td>train_acc</td><td>▁▂▃▄▄▅▅▅▆▆▆▆▇▇▇▇█▇</td></tr><tr><td>train_loss</td><td>█▇▆▅▅▄▄▄▃▃▃▃▂▂▂▂▁▂</td></tr><tr><td>val_acc</td><td>▁▂▃▅▆▅▆▆▇▆▇▇▇█████</td></tr><tr><td>val_loss</td><td>█▆▅▄▃▃▂▂▂▂▁▁▁▁▁▁▁▁</td></tr></table><br/></div><div class=\"wandb-col\"><h3>Run summary:</h3><br/><table class=\"wandb\"><tr><td>epoch</td><td>22</td></tr><tr><td>train_acc</td><td>0.90656</td></tr><tr><td>train_loss</td><td>0.36291</td></tr><tr><td>val_acc</td><td>0.883</td></tr><tr><td>val_loss</td><td>0.47205</td></tr></table><br/></div></div>"
      ],
      "text/plain": [
       "<IPython.core.display.HTML object>"
      ]
     },
     "metadata": {},
     "output_type": "display_data"
    },
    {
     "data": {
      "text/html": [
       " View run <strong style=\"color:#cdcd00\">bright-sweep-12</strong> at: <a href='https://wandb.ai/pragalbh/DL-Assign1/runs/5h78fbnl' target=\"_blank\">https://wandb.ai/pragalbh/DL-Assign1/runs/5h78fbnl</a><br/>Synced 6 W&B file(s), 0 media file(s), 0 artifact file(s) and 0 other file(s)"
      ],
      "text/plain": [
       "<IPython.core.display.HTML object>"
      ]
     },
     "metadata": {},
     "output_type": "display_data"
    },
    {
     "data": {
      "text/html": [
       "Find logs at: <code>./wandb/run-20230319_043705-5h78fbnl/logs</code>"
      ],
      "text/plain": [
       "<IPython.core.display.HTML object>"
      ]
     },
     "metadata": {},
     "output_type": "display_data"
    },
    {
     "name": "stderr",
     "output_type": "stream",
     "text": [
      "\u001b[34m\u001b[1mwandb\u001b[0m: Sweep Agent: Waiting for job.\n",
      "\u001b[34m\u001b[1mwandb\u001b[0m: Job received.\n",
      "\u001b[34m\u001b[1mwandb\u001b[0m: Agent Starting Run: 4z68otl4 with config:\n",
      "\u001b[34m\u001b[1mwandb\u001b[0m: \tbatch_size: 64\n",
      "\u001b[34m\u001b[1mwandb\u001b[0m: \tconst_hidden_layer_activation: relu\n",
      "\u001b[34m\u001b[1mwandb\u001b[0m: \tconst_hidden_layer_initializations: He\n",
      "\u001b[34m\u001b[1mwandb\u001b[0m: \tconst_hidden_layer_size: 64\n",
      "\u001b[34m\u001b[1mwandb\u001b[0m: \tepochs: 40\n",
      "\u001b[34m\u001b[1mwandb\u001b[0m: \tlamdba: 0.05\n",
      "\u001b[34m\u001b[1mwandb\u001b[0m: \tlearning_rate: 0.0001\n",
      "\u001b[34m\u001b[1mwandb\u001b[0m: \tnum_layers: 5\n",
      "\u001b[34m\u001b[1mwandb\u001b[0m: \toptimizer: rmsprop\n"
     ]
    },
    {
     "data": {
      "text/html": [
       "Tracking run with wandb version 0.14.0"
      ],
      "text/plain": [
       "<IPython.core.display.HTML object>"
      ]
     },
     "metadata": {},
     "output_type": "display_data"
    },
    {
     "data": {
      "text/html": [
       "Run data is saved locally in <code>/home/pragalbh/wandb/run-20230319_043752-4z68otl4</code>"
      ],
      "text/plain": [
       "<IPython.core.display.HTML object>"
      ]
     },
     "metadata": {},
     "output_type": "display_data"
    },
    {
     "data": {
      "text/html": [
       "Syncing run <strong><a href='https://wandb.ai/pragalbh/DL-Assign1/runs/4z68otl4' target=\"_blank\">dainty-sweep-13</a></strong> to <a href='https://wandb.ai/pragalbh/DL-Assign1' target=\"_blank\">Weights & Biases</a> (<a href='https://wandb.me/run' target=\"_blank\">docs</a>)<br/>Sweep page: <a href='https://wandb.ai/pragalbh/DL-Assign1/sweeps/k8fb48i7' target=\"_blank\">https://wandb.ai/pragalbh/DL-Assign1/sweeps/k8fb48i7</a>"
      ],
      "text/plain": [
       "<IPython.core.display.HTML object>"
      ]
     },
     "metadata": {},
     "output_type": "display_data"
    },
    {
     "data": {
      "text/html": [
       " View project at <a href='https://wandb.ai/pragalbh/DL-Assign1' target=\"_blank\">https://wandb.ai/pragalbh/DL-Assign1</a>"
      ],
      "text/plain": [
       "<IPython.core.display.HTML object>"
      ]
     },
     "metadata": {},
     "output_type": "display_data"
    },
    {
     "data": {
      "text/html": [
       " View sweep at <a href='https://wandb.ai/pragalbh/DL-Assign1/sweeps/k8fb48i7' target=\"_blank\">https://wandb.ai/pragalbh/DL-Assign1/sweeps/k8fb48i7</a>"
      ],
      "text/plain": [
       "<IPython.core.display.HTML object>"
      ]
     },
     "metadata": {},
     "output_type": "display_data"
    },
    {
     "data": {
      "text/html": [
       " View run at <a href='https://wandb.ai/pragalbh/DL-Assign1/runs/4z68otl4' target=\"_blank\">https://wandb.ai/pragalbh/DL-Assign1/runs/4z68otl4</a>"
      ],
      "text/plain": [
       "<IPython.core.display.HTML object>"
      ]
     },
     "metadata": {},
     "output_type": "display_data"
    },
    {
     "name": "stderr",
     "output_type": "stream",
     "text": [
      " 82%|████████████████████████████████████████████████████████████████████▍              | 33/40 [00:31<00:06,  1.05it/s]"
     ]
    },
    {
     "name": "stdout",
     "output_type": "stream",
     "text": [
      "Early stopping at epoch:  33 reverting to epoch  28\n"
     ]
    },
    {
     "name": "stderr",
     "output_type": "stream",
     "text": [
      " 82%|████████████████████████████████████████████████████████████████████▍              | 33/40 [00:32<00:06,  1.02it/s]\n"
     ]
    },
    {
     "data": {
      "image/png": "[encoded data removed]",
      "text/plain": [
       "<Figure size 640x480 with 1 Axes>"
      ]
     },
     "metadata": {},
     "output_type": "display_data"
    },
    {
     "name": "stdout",
     "output_type": "stream",
     "text": [
      "Run num_lay_5 hid_lay_size_64 activ_relu wt_init_He Opt_rmsproplrn_rate_0.0001\n"
     ]
    },
    {
     "data": {
      "text/html": [
       "Waiting for W&B process to finish... <strong style=\"color:green\">(success).</strong>"
      ],
      "text/plain": [
       "<IPython.core.display.HTML object>"
      ]
     },
     "metadata": {},
     "output_type": "display_data"
    },
    {
     "data": {
      "text/html": [
       "<style>\n",
       "    table.wandb td:nth-child(1) { padding: 0 10px; text-align: left ; width: auto;} td:nth-child(2) {text-align: left ; width: 100%}\n",
       "    .wandb-row { display: flex; flex-direction: row; flex-wrap: wrap; justify-content: flex-start; width: 100% }\n",
       "    .wandb-col { display: flex; flex-direction: column; flex-basis: 100%; flex: 1; padding: 10px; }\n",
       "    </style>\n",
       "<div class=\"wandb-row\"><div class=\"wandb-col\"><h3>Run history:</h3><br/><table class=\"wandb\"><tr><td>epoch</td><td>▁▁▁▂▂▂▂▂▃▃▃▃▃▄▄▄▄▅▅▅▅▅▆▆▆▆▇▇██</td></tr><tr><td>train_acc</td><td>▁▃▄▅▅▅▅▆▆▆▆▆▆▆▆▇▇▇▇▇▇▇▇▇▇█████</td></tr><tr><td>train_loss</td><td>█▆▅▅▄▄▄▃▃▃▃▃▃▂▂▂▂▂▂▂▂▂▂▂▁▁▁▁▁▁</td></tr><tr><td>val_acc</td><td>▁▄▅▅▆▆▆▆▇▇▇▇▇▇▇▇▇▇████████████</td></tr><tr><td>val_loss</td><td>█▅▄▄▃▃▂▂▂▂▂▂▂▂▂▁▁▁▁▁▁▁▁▁▁▁▁▁▁▁</td></tr></table><br/></div><div class=\"wandb-col\"><h3>Run summary:</h3><br/><table class=\"wandb\"><tr><td>epoch</td><td>34</td></tr><tr><td>train_acc</td><td>0.91222</td></tr><tr><td>train_loss</td><td>0.34814</td></tr><tr><td>val_acc</td><td>0.88267</td></tr><tr><td>val_loss</td><td>0.46887</td></tr></table><br/></div></div>"
      ],
      "text/plain": [
       "<IPython.core.display.HTML object>"
      ]
     },
     "metadata": {},
     "output_type": "display_data"
    },
    {
     "data": {
      "text/html": [
       " View run <strong style=\"color:#cdcd00\">dainty-sweep-13</strong> at: <a href='https://wandb.ai/pragalbh/DL-Assign1/runs/4z68otl4' target=\"_blank\">https://wandb.ai/pragalbh/DL-Assign1/runs/4z68otl4</a><br/>Synced 6 W&B file(s), 0 media file(s), 0 artifact file(s) and 0 other file(s)"
      ],
      "text/plain": [
       "<IPython.core.display.HTML object>"
      ]
     },
     "metadata": {},
     "output_type": "display_data"
    },
    {
     "data": {
      "text/html": [
       "Find logs at: <code>./wandb/run-20230319_043752-4z68otl4/logs</code>"
      ],
      "text/plain": [
       "<IPython.core.display.HTML object>"
      ]
     },
     "metadata": {},
     "output_type": "display_data"
    },
    {
     "name": "stderr",
     "output_type": "stream",
     "text": [
      "\u001b[34m\u001b[1mwandb\u001b[0m: Agent Starting Run: n8zozg5u with config:\n",
      "\u001b[34m\u001b[1mwandb\u001b[0m: \tbatch_size: 64\n",
      "\u001b[34m\u001b[1mwandb\u001b[0m: \tconst_hidden_layer_activation: relu\n",
      "\u001b[34m\u001b[1mwandb\u001b[0m: \tconst_hidden_layer_initializations: He\n",
      "\u001b[34m\u001b[1mwandb\u001b[0m: \tconst_hidden_layer_size: 64\n",
      "\u001b[34m\u001b[1mwandb\u001b[0m: \tepochs: 40\n",
      "\u001b[34m\u001b[1mwandb\u001b[0m: \tlamdba: 0.05\n",
      "\u001b[34m\u001b[1mwandb\u001b[0m: \tlearning_rate: 0.0001\n",
      "\u001b[34m\u001b[1mwandb\u001b[0m: \tnum_layers: 4\n",
      "\u001b[34m\u001b[1mwandb\u001b[0m: \toptimizer: rmsprop\n"
     ]
    },
    {
     "data": {
      "text/html": [
       "Tracking run with wandb version 0.14.0"
      ],
      "text/plain": [
       "<IPython.core.display.HTML object>"
      ]
     },
     "metadata": {},
     "output_type": "display_data"
    },
    {
     "data": {
      "text/html": [
       "Run data is saved locally in <code>/home/pragalbh/wandb/run-20230319_043840-n8zozg5u</code>"
      ],
      "text/plain": [
       "<IPython.core.display.HTML object>"
      ]
     },
     "metadata": {},
     "output_type": "display_data"
    },
    {
     "data": {
      "text/html": [
       "Syncing run <strong><a href='https://wandb.ai/pragalbh/DL-Assign1/runs/n8zozg5u' target=\"_blank\">dandy-sweep-14</a></strong> to <a href='https://wandb.ai/pragalbh/DL-Assign1' target=\"_blank\">Weights & Biases</a> (<a href='https://wandb.me/run' target=\"_blank\">docs</a>)<br/>Sweep page: <a href='https://wandb.ai/pragalbh/DL-Assign1/sweeps/k8fb48i7' target=\"_blank\">https://wandb.ai/pragalbh/DL-Assign1/sweeps/k8fb48i7</a>"
      ],
      "text/plain": [
       "<IPython.core.display.HTML object>"
      ]
     },
     "metadata": {},
     "output_type": "display_data"
    },
    {
     "data": {
      "text/html": [
       " View project at <a href='https://wandb.ai/pragalbh/DL-Assign1' target=\"_blank\">https://wandb.ai/pragalbh/DL-Assign1</a>"
      ],
      "text/plain": [
       "<IPython.core.display.HTML object>"
      ]
     },
     "metadata": {},
     "output_type": "display_data"
    },
    {
     "data": {
      "text/html": [
       " View sweep at <a href='https://wandb.ai/pragalbh/DL-Assign1/sweeps/k8fb48i7' target=\"_blank\">https://wandb.ai/pragalbh/DL-Assign1/sweeps/k8fb48i7</a>"
      ],
      "text/plain": [
       "<IPython.core.display.HTML object>"
      ]
     },
     "metadata": {},
     "output_type": "display_data"
    },
    {
     "data": {
      "text/html": [
       " View run at <a href='https://wandb.ai/pragalbh/DL-Assign1/runs/n8zozg5u' target=\"_blank\">https://wandb.ai/pragalbh/DL-Assign1/runs/n8zozg5u</a>"
      ],
      "text/plain": [
       "<IPython.core.display.HTML object>"
      ]
     },
     "metadata": {},
     "output_type": "display_data"
    },
    {
     "name": "stderr",
     "output_type": "stream",
     "text": [
      " 75%|██████████████████████████████████████████████████████████████▎                    | 30/40 [00:24<00:08,  1.20it/s]"
     ]
    },
    {
     "name": "stdout",
     "output_type": "stream",
     "text": [
      "Early stopping at epoch:  30 reverting to epoch  25\n"
     ]
    },
    {
     "name": "stderr",
     "output_type": "stream",
     "text": [
      " 75%|██████████████████████████████████████████████████████████████▎                    | 30/40 [00:25<00:08,  1.15it/s]\n"
     ]
    },
    {
     "data": {
      "image/png": "[encoded data removed]",
      "text/plain": [
       "<Figure size 640x480 with 1 Axes>"
      ]
     },
     "metadata": {},
     "output_type": "display_data"
    },
    {
     "name": "stdout",
     "output_type": "stream",
     "text": [
      "Run num_lay_4 hid_lay_size_64 activ_relu wt_init_He Opt_rmsproplrn_rate_0.0001\n"
     ]
    },
    {
     "data": {
      "text/html": [
       "Waiting for W&B process to finish... <strong style=\"color:green\">(success).</strong>"
      ],
      "text/plain": [
       "<IPython.core.display.HTML object>"
      ]
     },
     "metadata": {},
     "output_type": "display_data"
    },
    {
     "data": {
      "text/html": [
       "<style>\n",
       "    table.wandb td:nth-child(1) { padding: 0 10px; text-align: left ; width: auto;} td:nth-child(2) {text-align: left ; width: 100%}\n",
       "    .wandb-row { display: flex; flex-direction: row; flex-wrap: wrap; justify-content: flex-start; width: 100% }\n",
       "    .wandb-col { display: flex; flex-direction: column; flex-basis: 100%; flex: 1; padding: 10px; }\n",
       "    </style>\n",
       "<div class=\"wandb-row\"><div class=\"wandb-col\"><h3>Run history:</h3><br/><table class=\"wandb\"><tr><td>epoch</td><td>▁▁▁▂▂▂▂▃▃▃▃▃▄▄▄▄▅▅▅▅▆▆▆▆▆▇██</td></tr><tr><td>train_acc</td><td>▁▃▄▅▅▅▆▆▆▆▆▆▇▇▇▇▇▇▇▇▇▇▇█████</td></tr><tr><td>train_loss</td><td>█▆▅▄▄▄▃▃▃▃▃▃▂▂▂▂▂▂▂▂▂▂▁▁▁▁▁▁</td></tr><tr><td>val_acc</td><td>▁▄▅▆▆▇▇▇▇▇▇▇████████████████</td></tr><tr><td>val_loss</td><td>█▅▄▄▃▃▂▂▂▂▂▂▂▁▁▁▁▁▁▁▁▁▁▁▁▁▁▁</td></tr></table><br/></div><div class=\"wandb-col\"><h3>Run summary:</h3><br/><table class=\"wandb\"><tr><td>epoch</td><td>31</td></tr><tr><td>train_acc</td><td>0.90544</td></tr><tr><td>train_loss</td><td>0.37578</td></tr><tr><td>val_acc</td><td>0.8805</td></tr><tr><td>val_loss</td><td>0.47859</td></tr></table><br/></div></div>"
      ],
      "text/plain": [
       "<IPython.core.display.HTML object>"
      ]
     },
     "metadata": {},
     "output_type": "display_data"
    },
    {
     "data": {
      "text/html": [
       " View run <strong style=\"color:#cdcd00\">dandy-sweep-14</strong> at: <a href='https://wandb.ai/pragalbh/DL-Assign1/runs/n8zozg5u' target=\"_blank\">https://wandb.ai/pragalbh/DL-Assign1/runs/n8zozg5u</a><br/>Synced 6 W&B file(s), 0 media file(s), 0 artifact file(s) and 0 other file(s)"
      ],
      "text/plain": [
       "<IPython.core.display.HTML object>"
      ]
     },
     "metadata": {},
     "output_type": "display_data"
    },
    {
     "data": {
      "text/html": [
       "Find logs at: <code>./wandb/run-20230319_043840-n8zozg5u/logs</code>"
      ],
      "text/plain": [
       "<IPython.core.display.HTML object>"
      ]
     },
     "metadata": {},
     "output_type": "display_data"
    },
    {
     "name": "stderr",
     "output_type": "stream",
     "text": [
      "\u001b[34m\u001b[1mwandb\u001b[0m: Sweep Agent: Waiting for job.\n",
      "\u001b[34m\u001b[1mwandb\u001b[0m: Ctrl + C detected. Stopping sweep.\n"
     ]
    }
   ],
   "source": [
    "wandb.agent(sweep_id,project='DL-Assign1',entity=\"pragalbh\", function=WandB_sweep, count=150)"
   ]
  }
 ],
 "metadata": {
  "kernelspec": {
   "display_name": "Python 3 (ipykernel)",
   "language": "python",
   "name": "python3"
  },
  "language_info": {
   "codemirror_mode": {
    "name": "ipython",
    "version": 3
   },
   "file_extension": ".py",
   "mimetype": "text/x-python",
   "name": "python",
   "nbconvert_exporter": "python",
   "pygments_lexer": "ipython3",
   "version": "3.10.6"
  }
 },
 "nbformat": 4,
 "nbformat_minor": 5
}
